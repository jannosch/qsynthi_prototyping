{
 "cells": [
  {
   "cell_type": "markdown",
   "id": "0",
   "metadata": {},
   "source": [
    "# Offline Simulation & Sonification renderer\n",
    "This notebook was used to create the supplementary material for the Paper \"INTERACTIVE SONIFICATION OF 2D QUANTUM SYSTEMS\" for the 30th International Conference on Auditory Display (ICAD 2025).\n",
    "\n",
    "What it does:\n",
    "1. Run the simulation for each of the four quantum scenarios\n",
    "2. Render the sonification using Python Audio (pya)\n",
    "3. Render the video and combine it with the audio track using ffmpeg. The audio and video files are saved in the ```output``` folder. "
   ]
  },
  {
   "cell_type": "markdown",
   "id": "1",
   "metadata": {},
   "source": [
    "## Getting started\n",
    "\n",
    "1. Install all required python libaries ```numpy```, ```matplotlib```, ```pya```"
   ]
  },
  {
   "cell_type": "code",
   "execution_count": null,
   "id": "2",
   "metadata": {},
   "outputs": [],
   "source": [
    "%% pip install numpy matplotlib pyaudio"
   ]
  },
  {
   "cell_type": "markdown",
   "id": "3",
   "metadata": {},
   "source": [
    "2. Install ffmpeg on your device"
   ]
  },
  {
   "cell_type": "code",
   "execution_count": null,
   "id": "4",
   "metadata": {},
   "outputs": [],
   "source": [
    "#@Arthur TODO"
   ]
  },
  {
   "cell_type": "markdown",
   "id": "5",
   "metadata": {},
   "source": [
    "3. Run all below cells in order."
   ]
  },
  {
   "cell_type": "code",
   "execution_count": null,
   "id": "6",
   "metadata": {},
   "outputs": [],
   "source": [
    "import numpy as np\n",
    "import matplotlib\n",
    "import matplotlib.pyplot as plt\n",
    "import matplotlib.patches as patches\n",
    "from IPython.display import Video\n",
    "from pya import *\n",
    "\n",
    "import simulation as sim\n",
    "\n",
    "%matplotlib widget"
   ]
  },
  {
   "cell_type": "code",
   "execution_count": null,
   "id": "7",
   "metadata": {},
   "outputs": [],
   "source": [
    "s = startup()"
   ]
  },
  {
   "cell_type": "markdown",
   "id": "8",
   "metadata": {},
   "source": [
    "## Sonification"
   ]
  },
  {
   "cell_type": "markdown",
   "id": "9",
   "metadata": {},
   "source": [
    "### Scanners\n",
    "The below functions return a ```scanner function``` that provide a different view on the simulation data. Instead of accessing the simulation via ```x```, ```y```, ```t``` the ```scanner functions``` apply the Path of Interest concept proposed in the above mentioned paper and provide a view with ```phase0to1``` and ```t```.\n",
    "\n",
    "Additionally they return ```additional_patches``` (```matplotlib```) that are later used to draw the Path of Interest onto the rendered simulation. "
   ]
  },
  {
   "cell_type": "code",
   "execution_count": null,
   "id": "10",
   "metadata": {},
   "outputs": [],
   "source": [
    "\n",
    "def line_of_interest_scanner(start_coordinates={'x': 0, 'y': 64}, end_coordinates={'x': 128, 'y': 64}, color=(0.25, 1, 0.25, 1)):\n",
    "    \"\"\"Returns a function that scans the simulation along a line\"\"\"\n",
    "    start_array = np.array([start_coordinates['y'], start_coordinates['x']])[np.newaxis, :]\n",
    "    end_array = np.array([end_coordinates['y'], end_coordinates['x']])[np.newaxis, :]\n",
    "\n",
    "    def line_of_interest(simulation: sim.Simulation, t, phase_0_to_1):\n",
    "        phase_0_to_1 = phase_0_to_1[:, np.newaxis]\n",
    "        coordinates = (1 - phase_0_to_1) * start_array + phase_0_to_1 * end_array\n",
    "\n",
    "        indices = np.array([t, coordinates[:, 0], coordinates[:, 1]])\n",
    "        return simulation.interpolated(indices)\n",
    "    \n",
    "    # Patches for visual display\n",
    "    additional_patches = [patches.FancyArrow(x=start_coordinates['x'], y=start_coordinates['y'], dx=end_coordinates['x']-start_coordinates['x'], dy=end_coordinates['y']-start_coordinates['y'], width=0.125, head_length=3, head_width=2, color=color)]\n",
    "\n",
    "    return line_of_interest, additional_patches\n",
    "\n",
    "\n",
    "def circle_of_interest_scanner(center_coordinates={'x': 64, 'y': 64}, radius=32, color=(0.25, 1, 0.25, 1)):\n",
    "    \"\"\"Returns a function that scans the simulation along a circle\"\"\"\n",
    "    center_x = center_coordinates[\"x\"]\n",
    "    center_y = center_coordinates[\"y\"]\n",
    "\n",
    "    def circle_of_interest(simulation: sim.Simulation, t, phase_0_to_1):\n",
    "        angle = 2*np.pi * phase_0_to_1\n",
    "        x = center_x + radius * np.cos(angle)\n",
    "        y = center_y + radius * np.sin(angle)\n",
    "        \n",
    "        indices = np.array([t, y, x])\n",
    "        return simulation.interpolated(indices)\n",
    "    \n",
    "    # Patches for visual display\n",
    "    additional_patches = [patches.Circle((center_coordinates['x'], center_coordinates['y']), radius=radius, edgecolor=color, linewidth=1, fill=False)]\n",
    "    \n",
    "    return circle_of_interest, additional_patches"
   ]
  },
  {
   "cell_type": "markdown",
   "id": "11",
   "metadata": {},
   "source": [
    "### Path of Interest - Audification\n",
    "Scans the simulation along the above defined paths at the given frequency. The result is directly used as signal.\n",
    "\n",
    "Analogous to slicing the simulation at this path and using the result as wavetable.\n",
    "\n",
    "The ```complex_to_real_fn``` is used to convert the complex simulation values to real numbers. Like in the paper, the probability density is used in all below examples. "
   ]
  },
  {
   "cell_type": "code",
   "execution_count": null,
   "id": "12",
   "metadata": {},
   "outputs": [],
   "source": [
    "def audification(simulation: sim.Simulation, frequency=100, sample_rate=44100, scanner_fn=line_of_interest_scanner()[0], complex_to_real_fn=sim.probability_density):\n",
    "    num_samples = int(sample_rate * simulation.duration_seconds())\n",
    "    t = np.linspace(0, simulation.duration_seconds() * simulation.fps, num_samples, endpoint=False)\n",
    "    phase_0_to_1 = np.linspace(0, frequency * simulation.duration_seconds(), num_samples, endpoint=False) % 1\n",
    "\n",
    "    simulation_values = scanner_fn(simulation, t, phase_0_to_1)\n",
    "    signal = complex_to_real_fn(simulation_values)\n",
    "    \n",
    "    return Asig(signal, sr=sample_rate)"
   ]
  },
  {
   "cell_type": "markdown",
   "id": "13",
   "metadata": {},
   "source": [
    "### Timbre mapping\n",
    "\n",
    "Samples a certain number of points on the Path of Interest. The values at this points are mapped to the amplitude of harmonic of an additive synthesizer.\n",
    "\n",
    "The ```spacing``` determines if the points should be sampled with linear increasing position (```lin```), or logarithmic increasing position (```log```), so that a linear movement in the data corresponds to linear movement in pitch."
   ]
  },
  {
   "cell_type": "code",
   "execution_count": null,
   "id": "14",
   "metadata": {},
   "outputs": [],
   "source": [
    "def timbre_mapping(simulation: sim.Simulation, num_harmonics=32, spacing='log', frequency=100, sample_rate=44100, scanner_fn=line_of_interest_scanner()[0], complex_to_real_fn=sim.probability_density):\n",
    "    num_samples = int(sample_rate * simulation.duration_seconds())\n",
    "    t = np.linspace(0, simulation.duration_seconds() * simulation.fps, num_samples, endpoint=False)\n",
    "\n",
    "    partial_number = np.arange(num_harmonics) + 1\n",
    "\n",
    "    if (spacing == 'lin'): \n",
    "        positions = np.linspace(0, 1, num_harmonics)\n",
    "    if (spacing == 'log'):\n",
    "        positions = np.log2(partial_number) / np.log2(num_harmonics)\n",
    "\n",
    "    # make 2d arrays to have each timestep have one entry for each position\n",
    "    t = np.repeat(t[:, np.newaxis], num_harmonics, axis=1)\n",
    "    positions = np.repeat(positions[np.newaxis, :], num_samples, axis=0)\n",
    "\n",
    "    # flatten as scanner takes 1d inputs and rebuild the shape again\n",
    "    simulation_values = scanner_fn(simulation, t.flatten(), positions.flatten()).reshape(num_samples, num_harmonics)\n",
    "    amplitudes = complex_to_real_fn(simulation_values) / partial_number[np.newaxis, :]\n",
    "\n",
    "    frequencies = np.reshape(frequency * partial_number, (1, -1))\n",
    "    phases = np.reshape(np.random.random((num_harmonics)), (1, -1)) # random phase offsets to impulse like waveshape \n",
    "    video_seconds = np.reshape(np.linspace(0, simulation.duration_seconds(), num_samples, endpoint=False), (-1, 1))\n",
    "\n",
    "    signal = np.sum(amplitudes * np.cos(2*np.pi * (video_seconds * frequencies + phases)), axis=1)\n",
    "    return Asig(signal, sr=sample_rate)"
   ]
  },
  {
   "cell_type": "markdown",
   "id": "15",
   "metadata": {},
   "source": [
    "### Field Audification"
   ]
  },
  {
   "cell_type": "code",
   "execution_count": null,
   "id": "16",
   "metadata": {},
   "outputs": [],
   "source": [
    "def field_audification(simulation: sim.Simulation, scanline='vertical', x_stride=1, y_stride=1, time_stride=50, complex_to_real_fn=sim.probability_density):\n",
    "    height = simulation.frames.shape[1]\n",
    "    width = simulation.frames.shape[2]\n",
    "    frames = simulation.frames[::time_stride, ::y_stride, ::x_stride] # apply stride\n",
    "    \n",
    "    if scanline == 'horizontal': frames = frames\n",
    "    elif scanline == 'vertical': frames = frames.transpose(0, 2, 1)\n",
    "    else: print(\"User warning: Specified scanline is invalid. Defaulting to vertical.\")\n",
    "    \n",
    "    signal = complex_to_real_fn(frames).flatten()\n",
    "    sample_rate = int(np.round(simulation.fps/time_stride * height/y_stride * width/x_stride))\n",
    "    return Asig(signal, sample_rate)"
   ]
  },
  {
   "cell_type": "markdown",
   "id": "17",
   "metadata": {},
   "source": [
    "## Scenarios\n",
    "Note: Running the simulation and rendering the video can take about 30 seconds on an average device.\n",
    "\n",
    "There are 4 cells per scenario. In the first cell the initial quantum state is set up and simulated. Here you can play with the simulation parameters as you wish. The following three cells render the audio and video for the three sonification methods. Here you can adjust all the sonification parameters (by default: all equal for our 4 scenarios)."
   ]
  },
  {
   "cell_type": "markdown",
   "id": "18",
   "metadata": {},
   "source": [
    "### Scenario 1: Harmonic Oscillator"
   ]
  },
  {
   "cell_type": "code",
   "execution_count": null,
   "id": "19",
   "metadata": {},
   "outputs": [],
   "source": [
    "harmonic_oscillator = sim.Simulation(\n",
    "    title = \"Harmonic Oscillator - Parabolic Potential\",\n",
    "    fps = 200,\n",
    "    speed = 0.004,\n",
    "    initial_state = sim.gaussian(),\n",
    "    potential = sim.parabolic(),\n",
    "    barrier = None,\n",
    "    video_gamma=0.6\n",
    ")\n",
    "harmonic_oscillator.simulate(seconds=10)"
   ]
  },
  {
   "cell_type": "code",
   "execution_count": null,
   "id": "20",
   "metadata": {},
   "outputs": [],
   "source": [
    "audification_scanner_fn, audification_patches = circle_of_interest_scanner(center_coordinates=dict(x=64, y=64), radius=32)\n",
    "asig = audification(\n",
    "    simulation=harmonic_oscillator, \n",
    "    frequency=100, \n",
    "    scanner_fn=audification_scanner_fn, \n",
    "    complex_to_real_fn=sim.probability_density\n",
    ")\n",
    "Video(harmonic_oscillator.video_with_sonification(asig, sonification_title=\"audification\", additional_patches=audification_patches))"
   ]
  },
  {
   "cell_type": "code",
   "execution_count": null,
   "id": "21",
   "metadata": {},
   "outputs": [],
   "source": [
    "timbre_mapping_scanner_fn, timbre_mapping_patches = line_of_interest_scanner(start_coordinates=dict(x=24, y=64), end_coordinates=dict(x=128-24, y=64))\n",
    "asig = timbre_mapping(\n",
    "    simulation=harmonic_oscillator,\n",
    "    num_harmonics=10,\n",
    "    spacing='log', # 'lin'\n",
    "    frequency=100,\n",
    "    scanner_fn=timbre_mapping_scanner_fn,\n",
    "    complex_to_real_fn=sim.probability_density\n",
    ")\n",
    "Video(harmonic_oscillator.video_with_sonification(asig, sonification_title=\"timbre_mapping\", additional_patches=timbre_mapping_patches))"
   ]
  },
  {
   "cell_type": "code",
   "execution_count": null,
   "id": "22",
   "metadata": {},
   "outputs": [],
   "source": [
    "sonification_fps=8\n",
    "asig = field_audification(\n",
    "    simulation=harmonic_oscillator,\n",
    "    scanline='vertical',\n",
    "    x_stride=4,\n",
    "    y_stride=4,\n",
    "    time_stride=int(harmonic_oscillator.fps / sonification_fps),\n",
    "    complex_to_real_fn=sim.probability_density\n",
    ")\n",
    "Video(harmonic_oscillator.video_with_sonification(asig, sonification_title=\"field_audification\"))"
   ]
  },
  {
   "cell_type": "markdown",
   "id": "23",
   "metadata": {},
   "source": [
    "### Scenario 2: Tunnel Effect"
   ]
  },
  {
   "cell_type": "code",
   "execution_count": null,
   "id": "24",
   "metadata": {},
   "outputs": [],
   "source": [
    "tunnel_effect = sim.Simulation(\n",
    "    title = \"Tunnel Effect - Barrier and Parabolic Potential\",\n",
    "    fps = 230,\n",
    "    speed = 0.004,\n",
    "    initial_state = sim.gaussian(),\n",
    "    potential = sim.parabolic(),\n",
    "    barrier = sim.Barrier(x=64, width=1, slits=[]),\n",
    "    video_gamma=0.6\n",
    ")\n",
    "tunnel_effect.simulate(seconds=10)"
   ]
  },
  {
   "cell_type": "code",
   "execution_count": null,
   "id": "25",
   "metadata": {},
   "outputs": [],
   "source": [
    "audification_scanner_fn, audification_patches = circle_of_interest_scanner(center_coordinates=dict(x=64, y=64), radius=32)\n",
    "asig = audification(\n",
    "    simulation=tunnel_effect, \n",
    "    frequency=100, \n",
    "    scanner_fn=audification_scanner_fn, \n",
    "    complex_to_real_fn=sim.probability_density\n",
    ")\n",
    "Video(tunnel_effect.video_with_sonification(asig, sonification_title=\"audification\", additional_patches=audification_patches))"
   ]
  },
  {
   "cell_type": "code",
   "execution_count": null,
   "id": "26",
   "metadata": {},
   "outputs": [],
   "source": [
    "timbre_mapping_scanner_fn, timbre_mapping_patches = line_of_interest_scanner(start_coordinates=dict(x=24, y=64), end_coordinates=dict(x=128-24, y=64))\n",
    "asig = timbre_mapping(\n",
    "    simulation=tunnel_effect,\n",
    "    num_harmonics=10,\n",
    "    spacing='log', # 'lin'\n",
    "    frequency=100,\n",
    "    scanner_fn=timbre_mapping_scanner_fn,\n",
    "    complex_to_real_fn=sim.probability_density\n",
    ")\n",
    "Video(tunnel_effect.video_with_sonification(asig, sonification_title=\"timbre_mapping\", additional_patches=timbre_mapping_patches))"
   ]
  },
  {
   "cell_type": "code",
   "execution_count": null,
   "id": "27",
   "metadata": {},
   "outputs": [],
   "source": [
    "sonification_fps=8\n",
    "asig = field_audification(\n",
    "    simulation=tunnel_effect,\n",
    "    scanline='vertical',\n",
    "    x_stride=4,\n",
    "    y_stride=4,\n",
    "    time_stride=int(harmonic_oscillator.fps / sonification_fps),\n",
    "    complex_to_real_fn=sim.probability_density\n",
    ")\n",
    "Video(tunnel_effect.video_with_sonification(asig, sonification_title=\"field_audification\"))"
   ]
  },
  {
   "cell_type": "markdown",
   "id": "28",
   "metadata": {},
   "source": [
    "### Scenario 3: Single Slit"
   ]
  },
  {
   "cell_type": "code",
   "execution_count": null,
   "id": "29",
   "metadata": {},
   "outputs": [],
   "source": [
    "single_slit = sim.Simulation(\n",
    "    title = \"Slingle Slit and Parabolic Potential\",\n",
    "    fps = 240,\n",
    "    speed = 0.002,\n",
    "    initial_state = sim.gaussian(),\n",
    "    potential = sim.parabolic(),\n",
    "    barrier = sim.Barrier(x=64, width=1, slits=[[64-5, 64+5]]),\n",
    "    video_gamma=0.3\n",
    ")\n",
    "single_slit.simulate(seconds=10)"
   ]
  },
  {
   "cell_type": "code",
   "execution_count": null,
   "id": "30",
   "metadata": {},
   "outputs": [],
   "source": [
    "audification_scanner_fn, audification_patches = circle_of_interest_scanner(center_coordinates=dict(x=64, y=64), radius=32)\n",
    "asig = audification(\n",
    "    simulation=single_slit, \n",
    "    frequency=100, \n",
    "    scanner_fn=audification_scanner_fn, \n",
    "    complex_to_real_fn=sim.probability_density\n",
    ")\n",
    "Video(single_slit.video_with_sonification(asig, sonification_title=\"audification\", additional_patches=audification_patches))"
   ]
  },
  {
   "cell_type": "code",
   "execution_count": null,
   "id": "31",
   "metadata": {},
   "outputs": [],
   "source": [
    "timbre_mapping_scanner_fn, timbre_mapping_patches = line_of_interest_scanner(start_coordinates=dict(x=24, y=64), end_coordinates=dict(x=128-24, y=64))\n",
    "asig = timbre_mapping(\n",
    "    simulation=single_slit,\n",
    "    num_harmonics=10,\n",
    "    spacing='log', # 'lin'\n",
    "    frequency=100,\n",
    "    scanner_fn=timbre_mapping_scanner_fn,\n",
    "    complex_to_real_fn=sim.probability_density\n",
    ")\n",
    "Video(single_slit.video_with_sonification(asig, sonification_title=\"timbre_mapping\", additional_patches=timbre_mapping_patches))"
   ]
  },
  {
   "cell_type": "code",
   "execution_count": null,
   "id": "32",
   "metadata": {},
   "outputs": [],
   "source": [
    "sonification_fps=8\n",
    "asig = field_audification(\n",
    "    simulation=single_slit,\n",
    "    scanline='vertical',\n",
    "    x_stride=4,\n",
    "    y_stride=4,\n",
    "    time_stride=int(harmonic_oscillator.fps / sonification_fps),\n",
    "    complex_to_real_fn=sim.probability_density\n",
    ")\n",
    "Video(single_slit.video_with_sonification(asig, sonification_title=\"field_audification\"))"
   ]
  },
  {
   "cell_type": "markdown",
   "id": "33",
   "metadata": {},
   "source": [
    "### Scenarion 4: Double Slit"
   ]
  },
  {
   "cell_type": "code",
   "execution_count": null,
   "id": "34",
   "metadata": {},
   "outputs": [],
   "source": [
    "double_slit = sim.Simulation(\n",
    "    title = \"Double Slit and Parabolic Potential\",\n",
    "    fps = 240,\n",
    "    speed = 0.002,\n",
    "    initial_state = sim.gaussian(),\n",
    "    potential = sim.parabolic(),\n",
    "    barrier = sim.Barrier(x=64, width=1, slits=[[64-7, 64-5], [64+5, 64+7]]),\n",
    "    video_gamma=0.3\n",
    ")\n",
    "double_slit.simulate(seconds=10)"
   ]
  },
  {
   "cell_type": "code",
   "execution_count": null,
   "id": "35",
   "metadata": {},
   "outputs": [],
   "source": [
    "Video(double_slit.render_video(render_barrier=False, complex_to_real_fn=lambda psi: sim.probability_density(np.fft.fft2(psi))))"
   ]
  },
  {
   "cell_type": "code",
   "execution_count": null,
   "id": "36",
   "metadata": {},
   "outputs": [],
   "source": [
    "audification_scanner_fn, audification_patches = circle_of_interest_scanner(center_coordinates=dict(x=64, y=64), radius=32)\n",
    "asig = audification(\n",
    "    simulation=double_slit, \n",
    "    frequency=100, \n",
    "    scanner_fn=audification_scanner_fn, \n",
    "    complex_to_real_fn=sim.probability_density\n",
    ")\n",
    "Video(double_slit.video_with_sonification(asig, sonification_title=\"audification\", additional_patches=audification_patches))"
   ]
  },
  {
   "cell_type": "code",
   "execution_count": null,
   "id": "37",
   "metadata": {},
   "outputs": [],
   "source": [
    "timbre_mapping_scanner_fn, timbre_mapping_patches = line_of_interest_scanner(start_coordinates=dict(x=24, y=64), end_coordinates=dict(x=128-24, y=64))\n",
    "asig = timbre_mapping(\n",
    "    simulation=double_slit,\n",
    "    num_harmonics=10,\n",
    "    spacing='log', # 'lin'\n",
    "    frequency=100,\n",
    "    scanner_fn=timbre_mapping_scanner_fn,\n",
    "    complex_to_real_fn=sim.probability_density\n",
    ")\n",
    "Video(double_slit.video_with_sonification(asig, sonification_title=\"timbre_mapping\", additional_patches=timbre_mapping_patches))"
   ]
  },
  {
   "cell_type": "code",
   "execution_count": null,
   "id": "38",
   "metadata": {},
   "outputs": [],
   "source": [
    "sonification_fps=8\n",
    "asig = field_audification(\n",
    "    simulation=double_slit,\n",
    "    scanline='vertical',\n",
    "    x_stride=4,\n",
    "    y_stride=4,\n",
    "    time_stride=int(harmonic_oscillator.fps / sonification_fps),\n",
    "    complex_to_real_fn=sim.probability_density\n",
    ")\n",
    "Video(double_slit.video_with_sonification(asig, sonification_title=\"field_audification\"))"
   ]
  }
 ],
 "metadata": {
  "kernelspec": {
   "display_name": "base",
   "language": "python",
   "name": "python3"
  },
  "language_info": {
   "codemirror_mode": {
    "name": "ipython",
    "version": 3
   },
   "file_extension": ".py",
   "mimetype": "text/x-python",
   "name": "python",
   "nbconvert_exporter": "python",
   "pygments_lexer": "ipython3",
   "version": "3.10.9"
  }
 },
 "nbformat": 4,
 "nbformat_minor": 5
}
