{
 "cells": [
  {
   "cell_type": "code",
   "id": "initial_id",
   "metadata": {
    "collapsed": true
   },
   "source": [
    "import matplotlib.pyplot as plt\n",
    "from pya import *\n",
    "\n",
    "%matplotlib widget"
   ],
   "outputs": [],
   "execution_count": null
  },
  {
   "metadata": {},
   "cell_type": "markdown",
   "source": "# Simulation",
   "id": "e0622f048015d2d2"
  },
  {
   "metadata": {},
   "cell_type": "code",
   "source": [
    "import simulation\n",
    "\n",
    "n = 128\n",
    "sim_speed = 0.004\n",
    "sim_fps = 500\n",
    "duration = 6\n",
    "frame_amount = duration * sim_fps\n",
    "\n",
    "initial_state = np.array([[simulation.gaussian(x, y, n, offset=[-0.6, 0.0], width=0.15) for x in range(n)] for y in range(n)])\n",
    "# initial_state = np.array([[simulation.gaussian_impulse(x, y, n, offset=[-0.6, 0.0], width=0.15, impulse=0.1) for x in range(n)] for y in range(n)])\n",
    "# initial_state = np.array([[simulation.gaussian(x, y, n, offset=[-0.6, 0.0], width=0.05) for x in range(n)] for y in range(n)]) + np.array([[simulation.gaussian(x, y, n, offset=[-0.62, 0.0], width=0.05, imag=True) for x in range(n)] for y in range(n)])\n",
    "potential = np.array([[simulation.parabola(x, y, n, offset=[0, 0], factor=10000) for x in range(n)] for y in range(n)])\n",
    "# potential = np.array([[complex(0, 0) for x in range(n)] for y in range(n)])\n",
    "\n",
    "barrier_width = 2\n",
    "multi_slit = [(-15, -13), (-8, -6), (-1, 1), (6, 8), (13, 15)]\n",
    "double_slit = [(-8, -3), (3, 8)]\n",
    "single_slit = [(-3, 3)]\n",
    "slits = double_slit\n",
    "\n",
    "# action\n",
    "frames = simulation.sim(n, sim_fps, duration, slits, barrier_width, sim_speed, initial_state=initial_state, potential=potential)"
   ],
   "id": "be5bc0c5b0ee95ec",
   "outputs": [],
   "execution_count": null
  },
  {
   "metadata": {},
   "cell_type": "code",
   "source": [
    "import matplotlib\n",
    "plt.figure()\n",
    "plt.pcolormesh(np.abs(frames[0]) ** 2, cmap='inferno', norm=matplotlib.colors.PowerNorm(vmin=0, vmax=np.max(np.square(np.abs(frames))), gamma=0.4))\n",
    "# plt.pcolormesh(np.abs(potential), vmin=0, vmax=20000)\n",
    "plt.colorbar()\n",
    "plt.show()"
   ],
   "id": "126035a04b7350ec",
   "outputs": [],
   "execution_count": null
  },
  {
   "metadata": {},
   "cell_type": "markdown",
   "source": "# Video",
   "id": "dc76a520a44a4be0"
  },
  {
   "metadata": {},
   "cell_type": "code",
   "source": [
    "import video\n",
    "\n",
    "# save video\n",
    "video_filename, anim = video.create(frames, 20, frame_amount, sim_fps, slits, barrier_width, n, save=False)\n",
    "\n",
    "# plt.close()"
   ],
   "id": "bbf9fb52c95e6c47",
   "outputs": [],
   "execution_count": null
  },
  {
   "metadata": {},
   "cell_type": "code",
   "source": "",
   "id": "a0acb72a5e5d2a0d",
   "outputs": [],
   "execution_count": null
  },
  {
   "metadata": {},
   "cell_type": "code",
   "source": "",
   "id": "d4528cde30835386",
   "outputs": [],
   "execution_count": null
  }
 ],
 "metadata": {
  "kernelspec": {
   "display_name": "Python 3",
   "language": "python",
   "name": "python3"
  },
  "language_info": {
   "codemirror_mode": {
    "name": "ipython",
    "version": 2
   },
   "file_extension": ".py",
   "mimetype": "text/x-python",
   "name": "python",
   "nbconvert_exporter": "python",
   "pygments_lexer": "ipython2",
   "version": "2.7.6"
  }
 },
 "nbformat": 4,
 "nbformat_minor": 5
}
