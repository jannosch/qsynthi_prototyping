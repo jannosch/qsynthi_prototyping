{
 "cells": [
  {
   "cell_type": "code",
   "execution_count": null,
   "id": "0",
   "metadata": {},
   "outputs": [],
   "source": [
    "import numpy as np\n",
    "import matplotlib.pyplot as plt\n",
    "import matplotlib\n",
    "import matplotlib.animation as animation\n",
    "import matplotlib.patches as patches\n",
    "from IPython.display import Audio\n",
    "from scipy.io.wavfile import write\n",
    "from datetime import datetime\n",
    "import subprocess\n",
    "# @Jannis:\n",
    "#    conda install -c conda-forge pyaudio\n",
    "#    pip install pya\n",
    "from pya import *\n",
    "from scipy.interpolate import LinearNDInterpolator\n",
    "\n",
    "# interactive plots\n",
    "# conda install ipympl\n",
    "%matplotlib widget"
   ]
  },
  {
   "cell_type": "code",
   "execution_count": null,
   "id": "1",
   "metadata": {},
   "outputs": [],
   "source": [
    "import simulation\n",
    "\n",
    "sim_speed = 0.004\n",
    "sim_fps = 400\n",
    "duration = 6\n",
    "frame_amount = duration * sim_fps\n",
    "\n",
    "multi_slit = [(-15, -13), (-8, -6), (-1, 1), (6, 8), (13, 15)]\n",
    "double_slit = [(-4, -2), (2, 4)]\n",
    "single_slit = [(-2, 2)]\n",
    "slits = double_slit"
   ]
  },
  {
   "cell_type": "code",
   "execution_count": null,
   "id": "2",
   "metadata": {},
   "outputs": [],
   "source": [
    "results = []\n",
    "\n",
    "for n in range(32, 512 + 32, 32): #range(32, 512, 32):\n",
    "    start = datetime.now()\n",
    "\n",
    "    simulation.sim(n, sim_fps, duration, slits, sim_speed, normalize=True)\n",
    "    \n",
    "    end = datetime.now()\n",
    "    taken_time = end - start\n",
    "    print(f\"Simulation with size{n} took {taken_time.total_seconds()} seconds\")\n",
    "    results.append({'x': n, 'y': taken_time.total_seconds()})"
   ]
  },
  {
   "cell_type": "code",
   "execution_count": null,
   "id": "3",
   "metadata": {},
   "outputs": [],
   "source": [
    "print(results)"
   ]
  },
  {
   "cell_type": "code",
   "execution_count": null,
   "id": "4",
   "metadata": {},
   "outputs": [],
   "source": [
    "x = [r['x'] for r in results]\n",
    "y = [r['y'] for r in results]\n",
    "\n",
    "fig, ax = plt.subplots()\n",
    "plt.stem(x, y)\n",
    "plt.xticks(range(0, max(x) + 1, 64))\n",
    "\n",
    "#for r in results:\n",
    "#    ax.annotate(r['y'], (r['x'], r['y']))\n",
    "\n",
    "# Define x values for the fit curves\n",
    "x_fit = np.linspace(0.1, max(x), 400)  # smooth x values for plotting\n",
    "\n",
    "# Calculate y values for x^2 and x log2 x fits\n",
    "y_fit_x2 = np.average(np.divide(y, np.square(x))) * x_fit ** 2\n",
    "y_fit_xlogx = np.average(np.divide(y, np.array(x) * np.log2(x))) * x_fit * np.log2(x_fit)\n",
    "\n",
    "# Add fit curves to the plot\n",
    "plt.plot(x_fit, y_fit_x2, label='$O(n^2)$', linestyle='--')  # Dashed line for x^2\n",
    "plt.plot(x_fit, y_fit_xlogx, label='$O(n \\log_2(n))$', linestyle=':')  # Dotted line for x log2 x\n",
    "\n",
    "plt.legend()\n",
    "plt.xlabel(\"n\")\n",
    "plt.ylabel(\"computation time\")\n",
    "plt.title(\"Simulation benchmarking with variable spacial resolution\")\n",
    "plt.show()\n",
    "plt.close()"
   ]
  },
  {
   "cell_type": "code",
   "execution_count": null,
   "id": "5",
   "metadata": {},
   "outputs": [],
   "source": []
  }
 ],
 "metadata": {
  "kernelspec": {
   "display_name": "Python 3",
   "language": "python",
   "name": "python3"
  },
  "language_info": {
   "codemirror_mode": {
    "name": "ipython",
    "version": 2
   },
   "file_extension": ".py",
   "mimetype": "text/x-python",
   "name": "python",
   "nbconvert_exporter": "python",
   "pygments_lexer": "ipython2",
   "version": "2.7.6"
  }
 },
 "nbformat": 4,
 "nbformat_minor": 5
}
