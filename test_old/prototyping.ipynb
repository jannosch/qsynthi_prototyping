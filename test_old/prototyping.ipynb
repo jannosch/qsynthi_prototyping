{
 "cells": [
  {
   "cell_type": "markdown",
   "id": "0",
   "metadata": {},
   "source": [
    "# Prototyping\n",
    "- Line of Interest (circle & straight line)\n",
    "- Frequency spectrum mapping\n",
    "- Linear interpolation\n",
    "- Formant approach"
   ]
  },
  {
   "cell_type": "code",
   "execution_count": null,
   "id": "1",
   "metadata": {},
   "outputs": [],
   "source": [
    "import matplotlib.pyplot as plt\n",
    "from datetime import datetime\n",
    "from IPython.display import Audio\n",
    "import pyamapping\n",
    "\n",
    "import numpy as np\n",
    "from pya import *\n",
    "\n",
    "%matplotlib widget"
   ]
  },
  {
   "cell_type": "code",
   "execution_count": null,
   "id": "2",
   "metadata": {},
   "outputs": [],
   "source": [
    "s = startup()"
   ]
  },
  {
   "cell_type": "markdown",
   "id": "3",
   "metadata": {},
   "source": [
    "# Simulation"
   ]
  },
  {
   "cell_type": "code",
   "execution_count": null,
   "id": "4",
   "metadata": {},
   "outputs": [],
   "source": [
    "import simulation\n",
    "\n",
    "n = 128\n",
    "sim_speed = 0.004\n",
    "sim_fps = 400\n",
    "duration = 6\n",
    "frame_amount = duration * sim_fps\n",
    "\n",
    "initial_state = np.array([[simulation.gaussian(x, y, n, offset=[-0.6, 0.0], width=0.15) for x in range(n)] for y in range(n)])\n",
    "potential = np.array([[simulation.parabola(x, y, n, offset=[0, 0], factor=10000) for x in range(n)] for y in range(n)])\n",
    "\n",
    "multi_slit = [(-15, -13), (-8, -6), (-1, 1), (6, 8), (13, 15)]\n",
    "double_slit = [(-4, -2), (2, 4)]\n",
    "single_slit = [(-2, 2)]\n",
    "slits = double_slit\n",
    "\n",
    "frames = simulation.sim(n, sim_fps, duration, slits, sim_speed, initial_state=initial_state, potential=potential)"
   ]
  },
  {
   "cell_type": "code",
   "execution_count": null,
   "id": "5",
   "metadata": {},
   "outputs": [],
   "source": [
    "scanning_audio = np.abs(frames[::sim_fps//3].flatten())**2\n",
    "\n",
    "Audio(scanning_audio, rate=49152)"
   ]
  },
  {
   "cell_type": "code",
   "execution_count": null,
   "id": "6",
   "metadata": {},
   "outputs": [],
   "source": [
    "import matplotlib\n",
    "plt.figure()\n",
    "plt.pcolormesh(np.abs(frames[0]) ** 2, cmap='inferno', norm=matplotlib.colors.PowerNorm(vmin=0, vmax=np.max(np.square(np.abs(frames))), gamma=0.4))\n",
    "# plt.pcolormesh(potential, vmin=0, vmax=20000)\n",
    "plt.colorbar()\n",
    "plt.show()"
   ]
  },
  {
   "cell_type": "markdown",
   "id": "7",
   "metadata": {},
   "source": [
    "# Sonification"
   ]
  },
  {
   "cell_type": "code",
   "execution_count": null,
   "id": "8",
   "metadata": {},
   "outputs": [],
   "source": [
    "# circle of interest\n",
    "def circle(radius, center, num_points):\n",
    "    radians = np.linspace(0, 2 * np.pi, num_points, endpoint=False)\n",
    "    x = (0.5 * n * (radius * np.sin(radians) + 1 + center[0]))\n",
    "    y = (0.5 * n * (radius * np.cos(radians) + 1 + center[1]))\n",
    "    return x, y\n",
    "\n",
    "# half circle (bottom to top)\n",
    "def half_circle(radius, center, num_points):\n",
    "    radians = np.linspace(0, np.pi, num_points, endpoint=True)\n",
    "    x = (0.5 * n * (radius * np.sin(radians) + 1 + center[0]))\n",
    "    y = (0.5 * n * (radius * np.cos(radians) + 1 + center[1]))\n",
    "    return x, y\n",
    "\n",
    "# line of interest\n",
    "def line(start, end, num_points):\n",
    "    t = np.linspace(0, 1, num_points, endpoint=False)\n",
    "    x = start[0] + t * (end[0] - start[0])\n",
    "    y = start[1] + t * (end[1] - start[1])\n",
    "    return x, y\n",
    "\n",
    "def log_line(start, end, num_points):\n",
    "    t = np.log2(np.arange(0, num_points) + 1) / np.log2(num_points)\n",
    "    x = start[0] + t * (end[0] - start[0])\n",
    "    y = start[1] + t * (end[1] - start[1])\n",
    "    return x, y"
   ]
  },
  {
   "cell_type": "code",
   "execution_count": null,
   "id": "9",
   "metadata": {},
   "outputs": [],
   "source": [
    "log_line([0, 0], [1, 0], 10)"
   ]
  },
  {
   "cell_type": "code",
   "execution_count": null,
   "id": "10",
   "metadata": {},
   "outputs": [],
   "source": [
    "import os\n",
    "os.environ['NUMEXPR_MAX_THREADS'] = '20'\n",
    "os.environ['NUMEXPR_NUM_THREADS'] = '16'\n",
    "import numexpr as ne\n",
    "\n",
    "def interpolate_parallel(frames, indices, x_vals, y_vals):\n",
    "    # Hardcoded interpolation\n",
    "    # Way faster than any other interpolation!\n",
    "    t = np.array([indices, y_vals, x_vals]) % 1\n",
    "    t0, t1, t2 = t[0], t[1], t[2]\n",
    "    floors = np.floor([indices, y_vals, x_vals]).astype(int)\n",
    "    ceils  = np.ceil ([indices, y_vals, x_vals]).astype(int)\n",
    "    \n",
    "    f0 = frames[floors[0], floors[1], floors[2]]\n",
    "    f1 = frames[floors[0], floors[1], ceils [2]]\n",
    "    f2 = frames[floors[0], ceils [1], floors[2]]\n",
    "    f3 = frames[floors[0], ceils [1], ceils [2]]\n",
    "    f4 = frames[ceils [0], floors[1], floors[2]]\n",
    "    f5 = frames[ceils [0], floors[1], ceils [2]]\n",
    "    f6 = frames[ceils [0], ceils [1], floors[2]]\n",
    "    f7 = frames[ceils [0], ceils [1], ceils [2]]\n",
    "    \n",
    "    return ne.evaluate('''\\\\\n",
    "            ((1-t0) * ((1-t1) * ((1-t2) * real(abs(f0)) ** 2 \\\\\n",
    "                              +     t2  * real(abs(f1)) ** 2) \\\\\n",
    "                    +     t1  * ((1-t2) * real(abs(f2)) ** 2 \\\\\n",
    "                              +     t2  * real(abs(f3)) ** 2)) \\\\\n",
    "              + t0  * ((1-t1) * ((1-t2) * real(abs(f4)) ** 2 \\\\\n",
    "                              +     t2  * real(abs(f5)) ** 2) \\\\\n",
    "                    +     t1  * ((1-t2) * real(abs(f6)) ** 2 \\\\\n",
    "                              +     t2  * real(abs(f7)) ** 2))) \\\\\n",
    "            ''', local_dict=locals())\n",
    "\n",
    "\n",
    "def interpolate(frames, indices, x_vals, y_vals):\n",
    "    t = np.array([indices, y_vals, x_vals]) % 1\n",
    "    floors = np.floor([indices, y_vals, x_vals]).astype(int)\n",
    "    ceils  = np.ceil ([indices, y_vals, x_vals]).astype(int)\n",
    "    \n",
    "    return ((1-t[0]) * ((1-t[1]) * ((1-t[2]) * frames[floors[0], floors[1], floors[2]]\n",
    "                                 +     t[2]  * frames[floors[0], floors[1], ceils [2]])\n",
    "                     +     t[1]  * ((1-t[2]) * frames[floors[0], ceils [1], floors[2]]\n",
    "                                 +     t[2]  * frames[floors[0], ceils [1], ceils [2]]))\n",
    "             + t[0]  * ((1-t[1]) * ((1-t[2]) * frames[ceils [0], floors[1], floors[2]]\n",
    "                                 +     t[2]  * frames[ceils [0], floors[1], ceils [2]])\n",
    "                     +     t[1]  * ((1-t[2]) * frames[ceils [0], ceils [1], floors[2]]\n",
    "                                 +     t[2]  * frames[ceils [0], ceils [1], ceils [2]])))"
   ]
  },
  {
   "cell_type": "code",
   "execution_count": null,
   "id": "11",
   "metadata": {},
   "outputs": [],
   "source": [
    "# parameters\n",
    "sample_rate = 44100\n",
    "sample_amount = sample_rate * duration\n",
    "\n",
    "f_min = 110 * 2**(3/12) \n",
    "num_frequencies = 24\n",
    "# linear distribution\n",
    "frequencies = f_min * np.arange(1, num_frequencies + 1)\n",
    "\n",
    "# loudness compensation\n",
    "slope = -9 # dB / Oct\n",
    "loudness_compensation = 200 / (frequencies ** np.log2(10 ** (-slope / 20)))\n",
    "\n",
    "# choose method\n",
    "# x, y = circle(radius=0.6, center=[0, 0], num_points=num_frequencies)\n",
    "# x, y = half_circle(radius=0.6, center=[0, 0], num_points=num_frequencies)\n",
    "# x, y = line(start=[-60, 0], end=[60, 0], num_points=num_frequencies)\n",
    "x, y = log_line(start=[0, 64], end=[127, 64], num_points=num_frequencies)"
   ]
  },
  {
   "cell_type": "code",
   "execution_count": null,
   "id": "12",
   "metadata": {},
   "outputs": [],
   "source": [
    "loudness_compensation[0]"
   ]
  },
  {
   "cell_type": "code",
   "execution_count": null,
   "id": "13",
   "metadata": {},
   "outputs": [],
   "source": [
    "# Sonification\n",
    "frames_indices = np.linspace(0, frame_amount - 1, sample_amount, endpoint=False)\n",
    "\n",
    "t = np.arange(sample_amount) / sample_rate\n",
    "\n",
    "f1 = frames_indices[:, np.newaxis].repeat(num_frequencies, axis=1).flatten()\n",
    "x1 = x[np.newaxis, :].repeat(sample_amount, axis=0).flatten()\n",
    "y1 = y[np.newaxis, :].repeat(sample_amount, axis=0).flatten()\n"
   ]
  },
  {
   "cell_type": "code",
   "execution_count": null,
   "id": "14",
   "metadata": {},
   "outputs": [],
   "source": [
    "plt.figure()\n",
    "plt.stem(frequencies)\n",
    "plt.show()"
   ]
  },
  {
   "cell_type": "code",
   "execution_count": null,
   "id": "15",
   "metadata": {},
   "outputs": [],
   "source": [
    "# action\n",
    "data = interpolate(frames, f1, x1, y1).reshape(sample_amount, num_frequencies)\n",
    "\n",
    "sini = np.sin(2 * np.pi * (frequencies[np.newaxis, :] * t[:, np.newaxis]) + np.angle(data))\n",
    "sini *= loudness_compensation\n",
    "\n",
    "audio = np.sum(sini * np.abs(data)**2, axis=1)"
   ]
  },
  {
   "cell_type": "code",
   "execution_count": null,
   "id": "16",
   "metadata": {},
   "outputs": [],
   "source": [
    "p_audio = Asig(audio, sr=sample_rate)\n",
    "p_audio = p_audio.fade_in(0.005).fade_out(0.005).norm().stereo()\n",
    "\n",
    "audio_filename = f'output/sonification_{datetime.now().strftime(\"%Y_%m_%d-%H_%M_%S\")}.wav'\n",
    "p_audio.save_wavfile(audio_filename)\n",
    "print(f\"Sonification saved as {audio_filename}\")\n",
    "\n",
    "Audio(p_audio.mono().sig, rate=sample_rate)"
   ]
  },
  {
   "cell_type": "code",
   "execution_count": null,
   "id": "17",
   "metadata": {},
   "outputs": [],
   "source": [
    "plt.figure()\n",
    "p_audio.plot()\n",
    "plt.show()"
   ]
  },
  {
   "cell_type": "code",
   "execution_count": null,
   "id": "18",
   "metadata": {},
   "outputs": [],
   "source": [
    "plt.figure()\n",
    "plt.scatter(x, y)\n",
    "plt.show()"
   ]
  },
  {
   "cell_type": "code",
   "execution_count": null,
   "id": "19",
   "metadata": {},
   "outputs": [],
   "source": [
    "fix, ax = plt.subplots()\n",
    "p_audio.mono().to_stft(nperseg=4096).plot(ylim=(30, 20000), fn=pyamapping.ampdb, vmax=0, vmin=-120)\n",
    "ax.set_yscale('log')"
   ]
  },
  {
   "cell_type": "markdown",
   "id": "20",
   "metadata": {},
   "source": [
    "# Video"
   ]
  },
  {
   "cell_type": "code",
   "execution_count": null,
   "id": "21",
   "metadata": {},
   "outputs": [],
   "source": [
    "import video\n",
    "\n",
    "# save video\n",
    "video_filename, anim = video.create(frames, 20, frame_amount, sim_fps, slits, n)\n",
    "\n",
    "#plt.close()"
   ]
  },
  {
   "cell_type": "code",
   "execution_count": null,
   "id": "22",
   "metadata": {},
   "outputs": [],
   "source": [
    "# combine audio & video\n",
    "video.combine(audio_filename, video_filename)"
   ]
  },
  {
   "cell_type": "code",
   "execution_count": null,
   "id": "23",
   "metadata": {},
   "outputs": [],
   "source": []
  }
 ],
 "metadata": {
  "kernelspec": {
   "display_name": "base",
   "language": "python",
   "name": "python3"
  },
  "language_info": {
   "codemirror_mode": {
    "name": "ipython",
    "version": 2
   },
   "file_extension": ".py",
   "mimetype": "text/x-python",
   "name": "python",
   "nbconvert_exporter": "python",
   "pygments_lexer": "ipython2",
   "version": "3.10.9"
  }
 },
 "nbformat": 4,
 "nbformat_minor": 5
}
