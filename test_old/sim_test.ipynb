{
 "cells": [
  {
   "cell_type": "code",
   "execution_count": null,
   "id": "0",
   "metadata": {},
   "outputs": [],
   "source": [
    "import matplotlib.pyplot as plt\n",
    "from pya import *\n",
    "\n",
    "%matplotlib widget"
   ]
  },
  {
   "cell_type": "markdown",
   "id": "1",
   "metadata": {},
   "source": [
    "# Simulation"
   ]
  },
  {
   "cell_type": "code",
   "execution_count": null,
   "id": "2",
   "metadata": {},
   "outputs": [],
   "source": [
    "import simulation\n",
    "\n",
    "n = 128\n",
    "sim_speed = 0.004\n",
    "sim_fps = 500\n",
    "duration = 6\n",
    "frame_amount = duration * sim_fps\n",
    "\n",
    "initial_state = np.array([[simulation.gaussian(x, y, n, offset=[-0.7, 0.0], width=0.15, height=0.6) for x in range(n)] for y in range(n)])\n",
    "# initial_state = np.array([[simulation.gaussian_x_impulse(x, y, n, offset=[-0.3, 0.0], width=0.07, height=0.25, impulse=0.1) for x in range(n)] for y in range(n)])\n",
    "# initial_state = np.array([[simulation.gaussian_x_impulse(x, y, n, offset=[-0.7, 0.0], width=0.15, height=0.6, impulse=0.03) for x in range(n)] for y in range(n)])\n",
    "# initial_state = np.array([[simulation.gaussian_x_impulse(x, y, n, offset=[-0.72, 0.0], width=0.075, height=0.3, impulse=0.04) for x in range(n)] for y in range(n)])\n",
    "# initial_state = np.array([[simulation.gaussian(x, y, n, offset=[-0.6, 0.0], width=0.05) for x in range(n)] for y in range(n)]) + np.array([[simulation.gaussian(x, y, n, offset=[-0.62, 0.0], width=0.05, imag=True) for x in range(n)] for y in range(n)])\n",
    "potential = np.array([[simulation.parabola(x, y, n, offset=(0, 0), factor=(10000, 10000, 2)) for x in range(n)] for y in range(n)])\n",
    "# potential = np.array([[complex(0, 0) for x in range(n)] for y in range(n)])\n",
    "\n",
    "barrier_x = n // 2 - 1\n",
    "barrier_width = 2\n",
    "multi_slit = [(-15, -13), (-8, -6), (-1, 1), (6, 8), (13, 15)]\n",
    "double_slit = [(-6, -2), (2, 6)]\n",
    "wide_double_slit = [(-35, -25), (26, 36)]\n",
    "half_wide_double_slit = [(-15, -8), (9, 16)]\n",
    "single_slit = [(-6, 7)]\n",
    "slits = double_slit\n",
    "\n",
    "# action\n",
    "frames = simulation.sim(n, sim_fps, duration, slits, barrier_x, barrier_width, sim_speed, initial_state=initial_state, potential=potential, wall_width=4)"
   ]
  },
  {
   "cell_type": "code",
   "execution_count": null,
   "id": "3",
   "metadata": {},
   "outputs": [],
   "source": [
    "import matplotlib\n",
    "plt.figure()\n",
    "plt.pcolormesh(np.abs(frames[-1]) ** 2, cmap='inferno', norm=matplotlib.colors.PowerNorm(vmin=0, vmax=np.max(np.square(np.abs(frames))), gamma=0.4))\n",
    "plt.figure()\n",
    "plt.pcolormesh(np.abs(potential), vmin=0, vmax=25000)\n",
    "plt.colorbar()\n",
    "plt.show()"
   ]
  },
  {
   "cell_type": "markdown",
   "id": "4",
   "metadata": {},
   "source": [
    "# Video"
   ]
  },
  {
   "cell_type": "code",
   "execution_count": null,
   "id": "5",
   "metadata": {},
   "outputs": [],
   "source": [
    "import video\n",
    "\n",
    "# save video\n",
    "video_filename, anim = video.create(frames, 20, 0.5, frame_amount, sim_fps, slits, barrier_x, barrier_width, n, save=True)\n",
    "\n",
    "# plt.close()"
   ]
  },
  {
   "cell_type": "code",
   "execution_count": null,
   "id": "6",
   "metadata": {},
   "outputs": [],
   "source": []
  }
 ],
 "metadata": {
  "kernelspec": {
   "display_name": "base",
   "language": "python",
   "name": "python3"
  },
  "language_info": {
   "codemirror_mode": {
    "name": "ipython",
    "version": 3
   },
   "file_extension": ".py",
   "mimetype": "text/x-python",
   "name": "python",
   "nbconvert_exporter": "python",
   "pygments_lexer": "ipython3",
   "version": "3.10.9"
  }
 },
 "nbformat": 4,
 "nbformat_minor": 5
}
