{
 "cells": [
  {
   "cell_type": "code",
   "id": "initial_id",
   "metadata": {
    "collapsed": true
   },
   "source": [
    "import numpy as np\n",
    "import matplotlib.pyplot as plt\n",
    "from IPython.display import Audio\n",
    "import cv2\n",
    "from scipy.io.wavfile import write\n",
    "from datetime import datetime\n",
    "import subprocess\n",
    "import numexpr as ne"
   ],
   "outputs": [],
   "execution_count": null
  },
  {
   "cell_type": "markdown",
   "source": [
    "# Simulation"
   ],
   "metadata": {
    "collapsed": false
   },
   "id": "8829280fd1e1e5f0"
  },
  {
   "cell_type": "code",
   "source": [
    "def get_interpolated(array, index):\n",
    "    if not hasattr(index, \"__len__\") or len(index) < 1: return array # if scalar\n",
    "    return (1 - (index[0] % 1)) * get_interpolated(array[int(np.floor(index[0]))], index[1:]) + (index[0] % 1) * get_interpolated(array[int(np.ceil(index[0]))], index[1:])"
   ],
   "metadata": {
    "collapsed": false
   },
   "id": "43a188074d7eaff3",
   "outputs": [],
   "execution_count": null
  },
  {
   "cell_type": "code",
   "source": [
    "def interpolate_1d(array, indices):\n",
    "    t = indices.reshape(-1, 1, 1) % 1\n",
    "    left = array[np.floor(indices).astype(np.int64)]\n",
    "    right = array[np.ceil(indices).astype(np.int64)]\n",
    "    print(\"first step done\")\n",
    "    return (1 - t) * left + t * right"
   ],
   "metadata": {
    "collapsed": false
   },
   "id": "f08c3f0677fad011",
   "outputs": [],
   "execution_count": null
  },
  {
   "cell_type": "code",
   "source": [
    "interpolate_1d(np.array([[1, 2],[3, 4]]), np.array([0.5]))"
   ],
   "metadata": {
    "collapsed": false
   },
   "id": "954deb97c398862c",
   "outputs": [],
   "execution_count": null
  },
  {
   "cell_type": "code",
   "source": [
    "def gaussian(x, y, n, offset, width):\n",
    "    x = (x - n/2.0) / (n/2.0) - offset[0]\n",
    "    y = (y - n/2.0) / (n/2.0) - offset[1]\n",
    "    return np.exp(-(x*x + y*y) / (width*width)) + 0j"
   ],
   "metadata": {
    "collapsed": false
   },
   "id": "652f73bafc2e0785",
   "outputs": [],
   "execution_count": null
  },
  {
   "cell_type": "code",
   "source": [
    "def parabolar(x, y, n, offset, factor):\n",
    "    x = (x - n/2.0) / (n/2.0) - offset[0]\n",
    "    y = (y - n/2.0) / (n/2.0) - offset[1]\n",
    "    return factor * (x*x + y*y)\n"
   ],
   "metadata": {
    "collapsed": false
   },
   "id": "66d21d85b7407a9b",
   "outputs": [],
   "execution_count": null
  },
  {
   "cell_type": "code",
   "source": [
    "def calculate_next_psi(psi, dt, potential):\n",
    "    n = psi.shape[0]\n",
    "    next_psi = np.zeros((n, n), dtype=np.complex_)\n",
    "\n",
    "    # potential-part\n",
    "    next_psi = psi * np.exp(1j * dt * potential)\n",
    "\n",
    "    next_psi = np.fft.fft2(next_psi)\n",
    "    \n",
    "    indices = 2 * np.pi * np.min([np.arange(n), n-np.arange(n)], axis=0)\n",
    "    k = indices.reshape(-1, 1)\n",
    "    l = indices.reshape(1, -1)\n",
    "    theta = (k*k + l*l) * dt\n",
    "    next_psi *= np.exp(1j * theta)\n",
    "\n",
    "    next_psi = np.fft.ifft2(next_psi)\n",
    "    return next_psi"
   ],
   "metadata": {
    "collapsed": false
   },
   "id": "fff4dec53392f9de",
   "outputs": [],
   "execution_count": null
  },
  {
   "cell_type": "code",
   "outputs": [],
   "source": [
    "n = 128\n",
    "fps = 400\n",
    "skip_frames = 20\n",
    "duration = 5\n",
    "simulation_speed = 0.005\n",
    "\n",
    "slits_distance = 4\n",
    "slits_width = 2\n",
    "wall_height = 1e60\n",
    "\n",
    "frames = np.empty((duration*fps, n, n), dtype=complex) # for storing the generated images\n",
    "\n",
    "psi = np.array([[gaussian(x, y, n, offset=[-0.6, 0.0], width=0.15) for x in range(n)] for y in range(n)])\n",
    "potential = np.array([[parabolar(x, y, n, offset=[0,0], factor=10000) for x in range(n)] for y in range(n)])\n",
    "potential[:64-slits_distance//2-slits_width, 64] = wall_height\n",
    "potential[64+slits_distance//2+slits_width:, 64] = wall_height\n",
    "potential[64-slits_distance//2:64+slits_distance//2, 64] = wall_height\n",
    "frames[0] = psi\n",
    "\n",
    "#plt.pcolormesh(pow(np.abs(frames[0]), 2.0/3.0), cmap='inferno', vmin=0, vmax=1)\n",
    "plt.pcolormesh(potential, vmin=0, vmax=20000)\n",
    "plt.colorbar()\n",
    "plt.show()\n",
    "\n",
    "\n",
    "for i in range(1, fps*duration):\n",
    "    psi = calculate_next_psi(psi, simulation_speed / fps, potential)\n",
    "    frames[i] = psi\n",
    "\n",
    "print(\"Finished simulation\")"
   ],
   "metadata": {
    "collapsed": false
   },
   "id": "cda375fdd6ed935d"
  },
  {
   "cell_type": "code",
   "outputs": [],
   "source": [],
   "metadata": {
    "collapsed": false
   },
   "id": "e46613b1d773625"
  },
  {
   "cell_type": "markdown",
   "source": [
    "# Video"
   ],
   "metadata": {
    "collapsed": false
   },
   "id": "1067e51805a442cf"
  },
  {
   "cell_type": "code",
   "outputs": [],
   "source": [
    "fourcc = cv2.VideoWriter_fourcc(*'mp4v')\n",
    "video_filename = f'output/simulation_{datetime.now().strftime(\"%Y_%m_%d-%H_%M_%S\")}.mp4'\n",
    "video = cv2.VideoWriter(video_filename, fourcc, fps/skip_frames, (800, 600))\n",
    "for i, frame in enumerate(frames[::skip_frames]):\n",
    "    plt.figure(figsize=(8, 6))\n",
    "    plot = plt.pcolormesh(pow(np.abs(frame), 2.0/3.0), cmap='inferno', vmin=0, vmax=1, animated=True)\n",
    "    plt.colorbar()\n",
    "    plt.title('psi')\n",
    "\n",
    "    # Save to temporary file\n",
    "    plt.savefig('temp_frame.png')\n",
    "    plt.close()\n",
    "\n",
    "    # Read the image and add to the video\n",
    "    img = cv2.imread('temp_frame.png')\n",
    "    video.write(img)\n",
    "\n",
    "print(f\"Video saved as {video_filename}\")\n",
    "video.release()"
   ],
   "metadata": {
    "collapsed": false
   },
   "id": "7a81ade0214a1912"
  },
  {
   "cell_type": "markdown",
   "source": [
    "# Sonification"
   ],
   "metadata": {
    "collapsed": false
   },
   "id": "f963b728d54cba9c"
  },
  {
   "cell_type": "code",
   "outputs": [],
   "source": [
    "a = np.array([1+1j, 1+1j])\n",
    "b = a[:, None].view(float)\n",
    "np.dot(b[0], b[1])"
   ],
   "metadata": {
    "collapsed": false
   },
   "id": "dae0224988a3c050"
  },
  {
   "cell_type": "code",
   "outputs": [],
   "source": [
    "average_parallel_listening = lambda array: np.average(array[:, :, 0])\n",
    "average_orthogonal_listening = lambda array: np.average(array[:, :, 1])\n",
    "average_norm_listening = lambda array: np.average(np.linalg.norm(array, axis=2))\n",
    "\n",
    "point_parallel_listening = lambda array: array[20, 60, 0]\n",
    "point_orthogonal_listening = lambda array: array[20, 60, 1]"
   ],
   "metadata": {
    "collapsed": false
   },
   "id": "a852cfcebfa5da61"
  },
  {
   "cell_type": "code",
   "outputs": [],
   "source": [
    "sample_rate = 44100\n",
    "sonification_duration = 5\n",
    "sonification_duration = np.min([duration, sonification_duration])\n",
    "\n",
    "listening = average_norm_listening\n",
    "\n",
    "dampening_per_second = 1 - 1e-15\n",
    "spring_amount = sample_rate * 15\n",
    "min_mass = 0.00125\n",
    "max_mass = 3.2\n",
    "\n",
    "spatial_step = 4\n",
    "m = n // spatial_step\n",
    "\n",
    "dampening_per_sample = 1 - pow(1 - dampening_per_second, 1 / sample_rate)"
   ],
   "metadata": {
    "collapsed": false
   },
   "id": "ed7bb7a58868d3e9"
  },
  {
   "cell_type": "code",
   "outputs": [],
   "source": [
    "num_simulated_steps = sonification_duration * sample_rate\n",
    "original_positions = np.indices((m, m), dtype=np.float64).transpose((1, 2, 0))\n",
    "positions = np.copy(original_positions)\n",
    "speeds = np.zeros((m-2, m-2, 2), dtype=np.float64)\n",
    "forces = np.zeros((m-2, m-2, 2), dtype=np.float64)\n",
    "\n",
    "audio = np.empty(num_simulated_steps)\n",
    "\n",
    "data = frames[0, ::spatial_step, ::spatial_step]\n",
    "\n",
    "for sample in range(num_simulated_steps):\n",
    "    \n",
    "    simulation_index = int(sample / sample_rate * fps)\n",
    "    last_data = data\n",
    "    data = frames[simulation_index, ::spatial_step, ::spatial_step] # no interpolation\n",
    "    \n",
    "    masses = (min_mass + (max_mass - min_mass) * np.abs(data))[1:-1, 1:-1, np.newaxis]\n",
    "    angles = np.angle(data)\n",
    "    \n",
    "    bottom_offset = positions[ :-2, 1:-1] - positions[1:-1, 1:-1]\n",
    "    top_offset    = positions[2:  , 1:-1] - positions[1:-1, 1:-1]\n",
    "    left_offset   = positions[1:-1,  :-2] - positions[1:-1, 1:-1]\n",
    "    right_offset  = positions[1:-1, 2:  ] - positions[1:-1, 1:-1]\n",
    "    \n",
    "    bottom_spring_length = (1 - np.cos(angles[ :-2, 1:-1] - angles[1:-1, 1:-1]))\n",
    "    top_spring_length    = (1 - np.cos(angles[2:  , 1:-1] - angles[1:-1, 1:-1]))\n",
    "    left_spring_length   = (1 - np.cos(angles[1:-1,  :-2] - angles[1:-1, 1:-1]))\n",
    "    right_spring_length  = (1 - np.cos(angles[1:-1, 2:  ] - angles[1:-1, 1:-1]))\n",
    "\n",
    "    forces = np.zeros((m-2, m-2, 2), dtype=np.float64)\n",
    "    forces += spring_amount * bottom_offset * (1 - bottom_spring_length / np.linalg.norm(bottom_offset, axis=2))[:, :, np.newaxis]\n",
    "    forces += spring_amount * top_offset    * (1 - top_spring_length    / np.linalg.norm(top_offset   , axis=2))[:, :, np.newaxis]\n",
    "    forces += spring_amount * left_offset   * (1 - left_spring_length   / np.linalg.norm(left_offset  , axis=2))[:, :, np.newaxis]\n",
    "    forces += spring_amount * right_offset  * (1 - right_spring_length  / np.linalg.norm(right_offset , axis=2))[:, :, np.newaxis]\n",
    "    \n",
    "    # Add noise\n",
    "    forces[:, :, 0] += np.abs(np.abs(last_data) - np.abs(data))[1:-1, 1:-1] * (2 * np.random.random((m-2, m-2)) - 1)\n",
    "\n",
    "    # Update speeds with forces, apply dampening\n",
    "    speeds += forces / masses / sample_rate\n",
    "    speeds *= 1 - dampening_per_sample #/ masses[:, :, np.newaxis]\n",
    "    \n",
    "    positions[1:-1, 1:-1] += speeds / sample_rate\n",
    "\n",
    "    audio[sample] = listening(positions - original_positions)\n",
    "\n",
    "    #'''\n",
    "    if sample % (sample_rate // 100) == 0: print(f\"{round(sample/sample_rate, 3)}s\")\n",
    "    if sample % (sample_rate * sonification_duration // 5) == 0:\n",
    "        plot_data = np.abs(np.linalg.norm(positions - original_positions, axis=2))\n",
    "        scale = np.max(plot_data)\n",
    "        plt.pcolormesh(plot_data, vmin=-scale, vmax=scale, cmap='Spectral')\n",
    "        plt.colorbar()\n",
    "        plt.title(f\"{round(sample/sample_rate, 2)}s / {sample} samples\")\n",
    "        plt.show()\n",
    "    #'''"
   ],
   "metadata": {
    "collapsed": false
   },
   "id": "e419de64288085ab"
  },
  {
   "cell_type": "code",
   "source": [
    "audio[:1000]  *= np.square(np.linspace(start=0, stop=1, num=1000, endpoint=False))\n",
    "audio[-1000:] *= np.square(np.linspace(start=1, stop=0, num=1000, endpoint=False))\n",
    "audio_filename = f'output/sonification_{datetime.now().strftime(\"%Y_%m_%d-%H_%M_%S\")}.wav'\n",
    "write(audio_filename, sample_rate, np.round((audio - np.average(audio)) / np.max(np.abs(audio - np.average(audio))) * 32767).astype(np.int16))\n",
    "print(f\"Sonification saved as {audio_filename}\")\n",
    "Audio(audio, rate=sample_rate)"
   ],
   "metadata": {
    "collapsed": false
   },
   "id": "d207c2646d2fabe9",
   "outputs": [],
   "execution_count": null
  },
  {
   "cell_type": "code",
   "source": [
    "plt.plot(audio)"
   ],
   "metadata": {
    "collapsed": false
   },
   "id": "a755b692f911a496",
   "outputs": [],
   "execution_count": null
  },
  {
   "cell_type": "markdown",
   "source": [
    "# Combine Audio & Video"
   ],
   "metadata": {
    "collapsed": false
   },
   "id": "f59e8aba895eac4f"
  },
  {
   "cell_type": "code",
   "source": [
    "combined_filename = f'output/combination_{datetime.now().strftime(\"%Y_%m_%d-%H_%M_%S\")}.mp4'\n",
    "\n",
    "# Construct the ffmpeg command to combine video and audio\n",
    "ffmpeg_command = [\n",
    "    './ffmpeg',\n",
    "    '-i', video_filename,   # Input video file\n",
    "    '-i', audio_filename,   # Input audio file\n",
    "    '-c:v', 'copy',         # Copy the video stream\n",
    "    '-c:a', 'aac',          # Encode the audio to AAC (necessary for some formats)\n",
    "    '-shortest',            # Finish encoding when the shortest input stream ends\n",
    "    combined_filename         # Output file\n",
    "]\n",
    "\n",
    "# Execute the command\n",
    "subprocess.run(ffmpeg_command)"
   ],
   "metadata": {
    "collapsed": false
   },
   "id": "888c2aa38e2109bd",
   "outputs": [],
   "execution_count": null
  },
  {
   "cell_type": "code",
   "source": [
    " "
   ],
   "metadata": {
    "collapsed": false
   },
   "id": "35a10dfc55356a00",
   "outputs": [],
   "execution_count": null
  }
 ],
 "metadata": {
  "kernelspec": {
   "display_name": "Python 3",
   "language": "python",
   "name": "python3"
  },
  "language_info": {
   "codemirror_mode": {
    "name": "ipython",
    "version": 2
   },
   "file_extension": ".py",
   "mimetype": "text/x-python",
   "name": "python",
   "nbconvert_exporter": "python",
   "pygments_lexer": "ipython2",
   "version": "2.7.6"
  }
 },
 "nbformat": 4,
 "nbformat_minor": 5
}
