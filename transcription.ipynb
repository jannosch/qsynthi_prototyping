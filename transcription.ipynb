{
 "cells": [
  {
   "cell_type": "code",
   "execution_count": null,
   "id": "0",
   "metadata": {},
   "outputs": [],
   "source": [
    "from pydub import AudioSegment\n",
    "import speech_recognition as sr\n",
    "\n",
    "# Load the audio file\n",
    "audio_path = \"You ain't worth a mention.wav\"\n",
    "audio = AudioSegment.from_file(audio_path)\n",
    "\n",
    "# Convert to a format compatible with the recognizer (mono WAV)\n",
    "audio = audio.set_channels(1).set_frame_rate(16000)\n",
    "processed_audio_path = 'processed_audio.wav'\n",
    "audio.export(processed_audio_path, format=\"wav\")\n",
    "\n",
    "# Initialize recognizer and transcribe\n",
    "recognizer = sr.Recognizer()\n",
    "with sr.AudioFile(processed_audio_path) as source:\n",
    "    audio_data = recognizer.record(source)\n",
    "\n",
    "# Attempt to transcribe\n",
    "try:\n",
    "    transcription = recognizer.recognize_google(audio_data)\n",
    "except sr.UnknownValueError:\n",
    "    transcription = \"Audio not clear enough for transcription.\"\n",
    "except sr.RequestError:\n",
    "    transcription = \"Error in the transcription service.\"\n",
    "\n",
    "transcription"
   ]
  },
  {
   "cell_type": "code",
   "execution_count": null,
   "id": "1",
   "metadata": {},
   "outputs": [],
   "source": []
  }
 ],
 "metadata": {
  "kernelspec": {
   "display_name": "Python 3",
   "language": "python",
   "name": "python3"
  },
  "language_info": {
   "codemirror_mode": {
    "name": "ipython",
    "version": 2
   },
   "file_extension": ".py",
   "mimetype": "text/x-python",
   "name": "python",
   "nbconvert_exporter": "python",
   "pygments_lexer": "ipython2",
   "version": "2.7.6"
  }
 },
 "nbformat": 4,
 "nbformat_minor": 5
}
