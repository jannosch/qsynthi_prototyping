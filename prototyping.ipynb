{
 "cells": [
  {
   "cell_type": "code",
   "execution_count": 1,
   "id": "initial_id",
   "metadata": {
    "collapsed": true,
    "ExecuteTime": {
     "end_time": "2024-03-18T16:55:08.470375Z",
     "start_time": "2024-03-18T16:55:07.493827Z"
    }
   },
   "outputs": [],
   "source": [
    "import numpy as np\n",
    "import cv2\n",
    "import matplotlib.pyplot as plt\n",
    "from IPython.display import Video"
   ]
  },
  {
   "cell_type": "code",
   "outputs": [],
   "source": [
    "def get_interpolated(array, index):\n",
    "    pass"
   ],
   "metadata": {
    "collapsed": false,
    "ExecuteTime": {
     "end_time": "2024-03-18T16:55:08.471241Z",
     "start_time": "2024-03-18T16:55:08.462419Z"
    }
   },
   "id": "797cc34261ac4654",
   "execution_count": 2
  },
  {
   "cell_type": "code",
   "outputs": [],
   "source": [
    "def calculate_next_psi(psi, dt, potential):\n",
    "    n = psi.shape[0]\n",
    "    next_psi = np.zeros((n, n), dtype=np.complex_)\n",
    "    \n",
    "    # potential-part\n",
    "    next_psi = [[psi[i, j] * np.exp(1j * dt * potential[i, j]) for j in range(n)] for i in range(n)]\n",
    "\n",
    "    next_psi = np.fft.fft2(next_psi)\n",
    "    \n",
    "    for i in range(n):\n",
    "        for j in range(n):\n",
    "            k = 2*np.pi * min(i, n-i)\n",
    "            l = 2*np.pi * min(j, n-j)\n",
    "            theta = (k*k + l*l) * dt\n",
    "            next_psi[i, j] *= np.exp(1j * theta)\n",
    "    \n",
    "    next_psi = np.fft.ifft2(next_psi)\n",
    "    return next_psi"
   ],
   "metadata": {
    "collapsed": false,
    "ExecuteTime": {
     "end_time": "2024-03-18T16:55:08.483682Z",
     "start_time": "2024-03-18T16:55:08.470990Z"
    }
   },
   "id": "861511a0c32a7ca1",
   "execution_count": 3
  },
  {
   "cell_type": "code",
   "outputs": [],
   "source": [
    "def gaussian(x, y, n, offset, width):\n",
    "    x = (x - n/2.0) / (n/2.0) - offset[0]\n",
    "    y = (y - n/2.0) / (n/2.0) - offset[1]\n",
    "    return np.exp(-(x*x + y*y) / (width*width)) + 0j"
   ],
   "metadata": {
    "collapsed": false,
    "ExecuteTime": {
     "end_time": "2024-03-18T16:55:08.490816Z",
     "start_time": "2024-03-18T16:55:08.481044Z"
    }
   },
   "id": "e5490474fb942ba1",
   "execution_count": 4
  },
  {
   "cell_type": "code",
   "outputs": [],
   "source": [
    "def parabolar(x, y, n, offset, factor):\n",
    "    x = float(x - n//2) / (n/2.0) - offset[0]\n",
    "    y = float(y - n//2) / (n/2.0) - offset[1]\n",
    "    return factor * (x*x + y*y) + 0j\n",
    "    "
   ],
   "metadata": {
    "collapsed": false,
    "ExecuteTime": {
     "end_time": "2024-03-18T16:55:08.597295Z",
     "start_time": "2024-03-18T16:55:08.574211Z"
    }
   },
   "id": "6840624e803945c4",
   "execution_count": 5
  },
  {
   "cell_type": "code",
   "outputs": [
    {
     "data": {
      "text/plain": "<Figure size 640x480 with 2 Axes>",
      "image/png": "[encoded data removed]"
     },
     "metadata": {},
     "output_type": "display_data"
    },
    {
     "name": "stdout",
     "output_type": "stream",
     "text": [
      "0\n",
      "1\n",
      "2\n",
      "3\n",
      "4\n",
      "5\n",
      "6\n",
      "7\n",
      "8\n",
      "9\n",
      "10\n",
      "11\n",
      "12\n",
      "13\n",
      "14\n",
      "15\n",
      "16\n",
      "17\n",
      "18\n",
      "19\n",
      "20\n",
      "21\n",
      "22\n",
      "23\n",
      "24\n",
      "25\n",
      "26\n",
      "27\n",
      "28\n",
      "29\n",
      "30\n",
      "31\n",
      "32\n",
      "33\n",
      "34\n",
      "35\n",
      "36\n",
      "37\n",
      "38\n",
      "39\n",
      "40\n",
      "41\n",
      "42\n",
      "43\n",
      "44\n",
      "45\n",
      "46\n",
      "47\n",
      "48\n",
      "49\n",
      "50\n",
      "51\n",
      "52\n",
      "53\n",
      "54\n",
      "55\n",
      "56\n",
      "57\n",
      "58\n",
      "59\n"
     ]
    }
   ],
   "source": [
    "%rm test.mp4 \n",
    "\n",
    "frames = [] # for storing the generated images\n",
    "fourcc = cv2.VideoWriter_fourcc(*'mp4v')\n",
    "video = cv2.VideoWriter('test.mp4', fourcc, 12.0, (800, 600))\n",
    "\n",
    "n = 128\n",
    "\n",
    "psi = np.array([[gaussian(x, y, n, offset=[-0.5, 0.0], width=0.2) for x in range(n)] for y in range(n)])\n",
    "potential = np.array([[parabolar(x, y, n, offset=[0,0], factor=1) for x in range(n)] for y in range(n)])\n",
    "frames.append(psi)\n",
    "\n",
    "plt.pcolormesh(pow(np.abs(frames[0]), 2.0/3.0), cmap='inferno', vmin=0, vmax=1, animated=True)\n",
    "plt.colorbar()\n",
    "plt.show()\n",
    "\n",
    "\n",
    "for i in range(12*5):\n",
    "    for timestep in range(1):\n",
    "        psi = calculate_next_psi(psi, 0.0005, np.zeros((n, n)))\n",
    "    frames.append(psi)\n",
    "\n",
    "\n",
    "\n",
    "for i in range(len(frames)):\n",
    "    plt.figure(figsize=(8, 6))\n",
    "    plot = plt.pcolormesh(pow(np.abs(frames[i]), 2.0/3.0), cmap='inferno', vmin=0, vmax=1, animated=True)\n",
    "    plt.colorbar()\n",
    "    plt.title('psi')\n",
    "\n",
    "    # Save to temporary file\n",
    "    plt.savefig('temp_frame.png')\n",
    "    plt.close()\n",
    "\n",
    "    # Read the image and add to the video\n",
    "    img = cv2.imread('temp_frame.png')\n",
    "    video.write(img)\n",
    "\n",
    "video.release()"
   ],
   "metadata": {
    "collapsed": false,
    "ExecuteTime": {
     "end_time": "2024-03-18T16:56:39.643388Z",
     "start_time": "2024-03-18T16:56:24.980704Z"
    }
   },
   "id": "f03f2c250e00a636",
   "execution_count": 8
  },
  {
   "cell_type": "code",
   "outputs": [
    {
     "data": {
      "text/plain": "<IPython.core.display.Video object>",
      "text/html": "<video src=\"test.mp4\" controls  >\n      Your browser does not support the <code>video</code> element.\n    </video>"
     },
     "execution_count": 142,
     "metadata": {},
     "output_type": "execute_result"
    }
   ],
   "source": [
    "Video(\"test.mp4\")"
   ],
   "metadata": {
    "collapsed": false,
    "ExecuteTime": {
     "end_time": "2024-03-18T08:26:45.395665Z",
     "start_time": "2024-03-18T08:26:45.391363Z"
    }
   },
   "id": "a0ea8004f80921b3",
   "execution_count": 142
  },
  {
   "cell_type": "code",
   "outputs": [],
   "source": [],
   "metadata": {
    "collapsed": false
   },
   "id": "315cad2f96aeba6d"
  }
 ],
 "metadata": {
  "kernelspec": {
   "display_name": "Python 3",
   "language": "python",
   "name": "python3"
  },
  "language_info": {
   "codemirror_mode": {
    "name": "ipython",
    "version": 2
   },
   "file_extension": ".py",
   "mimetype": "text/x-python",
   "name": "python",
   "nbconvert_exporter": "python",
   "pygments_lexer": "ipython2",
   "version": "2.7.6"
  }
 },
 "nbformat": 4,
 "nbformat_minor": 5
}
