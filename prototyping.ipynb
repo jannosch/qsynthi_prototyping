{
 "cells": [
  {
   "cell_type": "code",
   "id": "initial_id",
   "metadata": {
    "collapsed": true
   },
   "source": [
    "import numpy as np\n",
    "import matplotlib.pyplot as plt\n",
    "import matplotlib.animation as animation\n",
    "import matplotlib.patches as patches\n",
    "from IPython.display import Audio\n",
    "from scipy.io.wavfile import write\n",
    "from datetime import datetime\n",
    "import subprocess\n",
    "from scipy.interpolate import LinearNDInterpolator"
   ],
   "outputs": [],
   "execution_count": null
  },
  {
   "cell_type": "code",
   "source": [
    "def get_interpolated(array, index):\n",
    "    if not hasattr(array, \"__len__\"): return array # if scalar\n",
    "    return (1 - (index[0] % 1)) * get_interpolated(array[int(np.floor(index[0]))], index[1:]) + (index[0] % 1) * get_interpolated(array[int(np.ceil(index[0]))], index[1:])"
   ],
   "metadata": {
    "collapsed": false
   },
   "id": "797cc34261ac4654",
   "outputs": [],
   "execution_count": null
  },
  {
   "cell_type": "code",
   "source": [
    "def vectorized_interpolation(array, indices): # indices.shape (dim_array, desired number of interpolations)\n",
    "    if len(array.shape) == 0: return array\n",
    "    t = indices[0] % 1\n",
    "    floor_indices = np.floor(indices[0]).astype(int)\n",
    "    ceil_indices  = np.ceil (indices[0]).astype(int)\n",
    "    return (1 - t) * vectorized_interpolation(array[floor_indices], indices[1:]) + t * vectorized_interpolation(array[ceil_indices], indices[1:])"
   ],
   "metadata": {
    "collapsed": false
   },
   "id": "76f0ba542e8e665f",
   "outputs": [],
   "execution_count": null
  },
  {
   "cell_type": "code",
   "source": [
    "vectorized_interpolation(np.array([[0, 1, 2], [10, 20, 30]]), np.array([0.5, 0.5]))"
   ],
   "metadata": {
    "collapsed": false
   },
   "id": "6037b9463e8b3b2a",
   "outputs": [],
   "execution_count": null
  },
  {
   "cell_type": "code",
   "source": [
    "def calculate_next_psi(psi, dt, potential):\n",
    "    n = psi.shape[0]\n",
    "    next_psi = np.zeros((n, n), dtype=np.complex_)\n",
    "\n",
    "    # potential-part\n",
    "    next_psi = psi * np.exp(1j * dt * potential)\n",
    "\n",
    "    next_psi = np.fft.fft2(next_psi)\n",
    "\n",
    "    indices = 2 * np.pi * np.min([np.arange(n), n-np.arange(n)], axis=0)\n",
    "    k = indices.reshape(-1, 1)\n",
    "    l = indices.reshape(1, -1)\n",
    "    theta = (k*k + l*l) * dt\n",
    "    next_psi *= np.exp(1j * theta)\n",
    "\n",
    "    next_psi = np.fft.ifft2(next_psi)\n",
    "    return next_psi"
   ],
   "metadata": {
    "collapsed": false
   },
   "id": "861511a0c32a7ca1",
   "outputs": [],
   "execution_count": null
  },
  {
   "cell_type": "code",
   "source": [
    "def gaussian(x, y, n, offset, width):\n",
    "    x = (x - n/2.0) / (n/2.0) - offset[0]\n",
    "    y = (y - n/2.0) / (n/2.0) - offset[1]\n",
    "    return np.exp(-(x*x + y*y) / (width*width)) + 0j"
   ],
   "metadata": {
    "collapsed": false
   },
   "id": "e5490474fb942ba1",
   "outputs": [],
   "execution_count": null
  },
  {
   "cell_type": "code",
   "source": [
    "def parabolar(x, y, n, offset, factor):\n",
    "    x = (x - n/2.0) / (n/2.0) - offset[0]\n",
    "    y = (y - n/2.0) / (n/2.0) - offset[1]\n",
    "    return factor * (x*x + y*y)\n",
    "    "
   ],
   "metadata": {
    "collapsed": false
   },
   "id": "6840624e803945c4",
   "outputs": [],
   "execution_count": null
  },
  {
   "cell_type": "code",
   "source": [
    "parabolar(64, 0, 128, [0, 0], 1)"
   ],
   "metadata": {
    "collapsed": false
   },
   "id": "2277b60f58fa48d8",
   "outputs": [],
   "execution_count": null
  },
  {
   "cell_type": "code",
   "source": [
    "def circle(rad, radius, offset, n):\n",
    "    return (radius * np.array([np.cos(rad), np.sin(rad)]) + offset) * n//2 + n//2"
   ],
   "metadata": {
    "collapsed": false,
    "ExecuteTime": {
     "end_time": "2024-04-15T11:40:31.295932Z",
     "start_time": "2024-04-15T11:40:31.290041Z"
    }
   },
   "id": "fd09f93c5e69d2b",
   "outputs": [],
   "execution_count": 1
  },
  {
   "cell_type": "code",
   "source": [
    "np.concatenate(([5], circle(0, 1, 0, 128)), axis=0)"
   ],
   "metadata": {
    "collapsed": false
   },
   "id": "72a34898a9fbe454",
   "outputs": [],
   "execution_count": null
  },
  {
   "metadata": {},
   "cell_type": "code",
   "source": [
    "n = 128\n",
    "\n",
    "potential = np.array([[parabolar(x, y, n, offset=[0,0], factor=10000) for x in range(n)] for y in range(n)])\n",
    "\n",
    "# barrier\n",
    "double_slit = [(-4, -2), (2, 4)]\n",
    "single_slit = [(-2, 2)]\n",
    "slits = double_slit\n",
    "\n",
    "barrier_height = 1e60\n",
    "barrier = [barrier_height] * n\n",
    "for s in slits:\n",
    "    barrier[n//2+s[0]:n//2+s[1]] = [0] * (s[1]-s[0])\n",
    "for i in range(n):\n",
    "    potential[:, n//2-1] += barrier"
   ],
   "id": "74faa89a68860718",
   "outputs": [],
   "execution_count": null
  },
  {
   "metadata": {},
   "cell_type": "code",
   "source": [
    "sim_fps = 400\n",
    "duration = 5\n",
    "frame_amount = duration * sim_fps\n",
    "simulation_speed = 0.004\n",
    "\n",
    "frames = np.empty((frame_amount, n, n), dtype=complex) # for storing the generated images\n",
    "\n",
    "psi = np.array([[gaussian(x, y, n, offset=[-0.6, 0.0], width=0.15) for x in range(n)] for y in range(n)])\n",
    "frames[0] = psi\n",
    "\n",
    "#plt.pcolormesh(pow(np.abs(frames[0]), 2.0/3.0), cmap='inferno', vmin=0, vmax=1)\n",
    "plt.pcolormesh(potential, vmin=0, vmax=20000)\n",
    "plt.colorbar()\n",
    "plt.show()\n",
    "\n",
    "\n",
    "for i in range(1, frame_amount):\n",
    "    psi = calculate_next_psi(psi, simulation_speed / sim_fps, potential)\n",
    "    frames[i] = psi\n",
    "\n",
    "print(\"Finished simulation\")"
   ],
   "id": "70d7eb50f016f24f",
   "outputs": [],
   "execution_count": null
  },
  {
   "cell_type": "markdown",
   "source": [
    "# Video"
   ],
   "metadata": {
    "collapsed": false
   },
   "id": "48d91f90f2f35e2b"
  },
  {
   "metadata": {},
   "cell_type": "code",
   "source": [
    "# create visual barrier for plot\n",
    "def visual_barrier(barrier_gaps):\n",
    "    start = 0\n",
    "    rects = []\n",
    "    for g in barrier_gaps:\n",
    "        end = n//2 + g[0]\n",
    "        rect = patches.Rectangle((n//2 - 1.5, start - 0.5), 1, end - start, linewidth=0, facecolor='#60b0ff')\n",
    "        start = n//2 + g[1]\n",
    "        rects.append(rect)\n",
    "    rects.append(patches.Rectangle((n//2 - 1.5, start - 0.5), 1, n - start, linewidth=0, facecolor='#60b0ff'))\n",
    "    return rects"
   ],
   "id": "d11c659aa0874ae7",
   "outputs": [],
   "execution_count": null
  },
  {
   "metadata": {},
   "cell_type": "code",
   "source": [
    "# FuncAnimation\n",
    "video_fps = 20\n",
    "\n",
    "fig, ax = plt.subplots()\n",
    "plt.axis('off')  # big performance boost\n",
    "\n",
    "data = pow(np.abs(frames[0]), 2.0/3.0)\n",
    "cax = ax.imshow(data, cmap='inferno', vmin=0, vmax=1)\n",
    "for b in visual_barrier(slits):\n",
    "    ax.add_patch(b)\n",
    "fig.colorbar(cax)  # no performance impact (?)\n",
    "\n",
    "def animate(i):\n",
    "    cax.set_array(pow(np.abs(frames[i * sim_fps // video_fps]), 2.0/3.0))\n",
    "\n",
    "anim = animation.FuncAnimation(fig, animate, frames=frame_amount * video_fps // sim_fps)\n",
    "video_filename = f'output/simulation_{datetime.now().strftime(\"%Y_%m_%d-%H_%M_%S\")}.mp4'\n",
    "\n",
    "anim.save(video_filename, fps=video_fps, dpi=150, bitrate=4000)\n",
    "\n",
    "print(f'video saved as {video_filename}')"
   ],
   "id": "9c07d30a32b5903f",
   "outputs": [],
   "execution_count": null
  },
  {
   "cell_type": "markdown",
   "source": [
    "# Sonification"
   ],
   "metadata": {
    "collapsed": false
   },
   "id": "66cc23671d777fcd"
  },
  {
   "cell_type": "code",
   "source": [
    "sample_rate = 44100\n",
    "frequency = 220\n",
    "radius = 0.6"
   ],
   "metadata": {
    "collapsed": false
   },
   "id": "1651085fa04bbad4",
   "outputs": [],
   "execution_count": null
  },
  {
   "cell_type": "code",
   "source": [
    "# Sonification\n",
    "frames_indices = np.arange(duration * sample_rate) / sample_rate * sim_fps\n",
    "radians_per_sample = 2 * np.pi * frequency / sample_rate\n",
    "radians = np.arange(duration * sample_rate) * radians_per_sample\n",
    "x = np.cos(radians)\n",
    "y = np.sin(radians)\n",
    "interpolator = LinearNDInterpolator(np.array([frames_indices.ravel(), x.ravel(), y.ravel()]).T, frames.ravel())\n",
    "audio = np.square(np.abs(interpolator((frames_indices, x, y), frames)))\n",
    "\n",
    "print(\"Finished sonification\")"
   ],
   "metadata": {
    "collapsed": false
   },
   "id": "674b75b71786d7d7",
   "outputs": [],
   "execution_count": null
  },
  {
   "cell_type": "code",
   "source": [
    "audio[:1000]  *= np.square(np.linspace(start=0, stop=1, num=1000, endpoint=False))\n",
    "audio[-1000:] *= np.square(np.linspace(start=1, stop=0, num=1000, endpoint=False))\n",
    "audio_filename = f'sonification_{datetime.now().strftime(\"%Y_%m_%d-%H_%M_%S\")}.wav'\n",
    "write(audio_filename, sample_rate, np.round((audio - np.average(audio)) / np.max(np.abs(audio - np.average(audio))) * 32767).astype(np.int16))\n",
    "print(f\"Sonification saved as {audio_filename}\")\n",
    "Audio(audio, rate=sample_rate)"
   ],
   "metadata": {
    "collapsed": false
   },
   "id": "96d7c1856f7c02a",
   "outputs": [],
   "execution_count": null
  },
  {
   "cell_type": "code",
   "source": [
    "plt.plot(audio)"
   ],
   "metadata": {
    "collapsed": false
   },
   "id": "479278c1ff1ce031",
   "outputs": [],
   "execution_count": null
  },
  {
   "cell_type": "markdown",
   "source": [
    "# Combine Video & Audio"
   ],
   "metadata": {
    "collapsed": false
   },
   "id": "b60316a46e60635f"
  },
  {
   "cell_type": "code",
   "source": [
    "combined_filename = f'combination_{datetime.now().strftime(\"%Y_%m_%d-%H_%M_%S\")}.mp4'\n",
    "\n",
    "# Construct the ffmpeg command to combine video and audio\n",
    "ffmpeg_command = [\n",
    "    'ffmpeg',\n",
    "    '-i', video_filename,   # Input video file\n",
    "    '-i', audio_filename,   # Input audio file\n",
    "    '-c:v', 'copy',         # Copy the video stream\n",
    "    '-c:a', 'aac',          # Encode the audio to AAC (necessary for some formats)\n",
    "    '-shortest',            # Finish encoding when the shortest input stream ends\n",
    "    combined_filename         # Output file\n",
    "]\n",
    "\n",
    "# Execute the command\n",
    "subprocess.run(ffmpeg_command)"
   ],
   "metadata": {
    "collapsed": false
   },
   "id": "333cfb07c9345b79",
   "outputs": [],
   "execution_count": null
  },
  {
   "cell_type": "code",
   "source": [],
   "metadata": {
    "collapsed": false
   },
   "id": "3d496e377c5ac4c8",
   "outputs": [],
   "execution_count": null
  }
 ],
 "metadata": {
  "kernelspec": {
   "display_name": "Python 3",
   "language": "python",
   "name": "python3"
  },
  "language_info": {
   "codemirror_mode": {
    "name": "ipython",
    "version": 2
   },
   "file_extension": ".py",
   "mimetype": "text/x-python",
   "name": "python",
   "nbconvert_exporter": "python",
   "pygments_lexer": "ipython2",
   "version": "2.7.6"
  }
 },
 "nbformat": 4,
 "nbformat_minor": 5
}
