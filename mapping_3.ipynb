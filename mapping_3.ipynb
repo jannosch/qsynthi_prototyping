{
 "cells": [
  {
   "metadata": {},
   "cell_type": "markdown",
   "source": [
    "# Mapping 3\n",
    "- Line of Interest (circle & straight line)\n",
    "- Frequency spectrum mapping\n",
    "- Linear interpolation"
   ],
   "id": "bf03c98646fd5276"
  },
  {
   "cell_type": "code",
   "id": "initial_id",
   "metadata": {
    "collapsed": true
   },
   "source": [
    "import matplotlib.pyplot as plt\n",
    "from datetime import datetime\n",
    "\n",
    "import pya\n",
    "from pya import *\n",
    "\n",
    "%matplotlib widget"
   ],
   "outputs": [],
   "execution_count": null
  },
  {
   "metadata": {},
   "cell_type": "code",
   "source": "s = startup()",
   "id": "f6d7f9763fdfb30f",
   "outputs": [],
   "execution_count": null
  },
  {
   "metadata": {},
   "cell_type": "markdown",
   "source": "# Simulation",
   "id": "a188d5af9347f67f"
  },
  {
   "metadata": {},
   "cell_type": "code",
   "source": [
    "import simulation\n",
    "\n",
    "n = 128\n",
    "sim_speed = 0.004\n",
    "sim_fps = 400\n",
    "duration = 6\n",
    "frame_amount = duration * sim_fps\n",
    "\n",
    "initial_state = np.array([[simulation.gaussian(x, y, n, offset=[-0.6, 0.0], width=0.15, height=0.15) for x in range(n)] for y in range(n)])\n",
    "potential = np.array([[simulation.parabola(x, y, n, offset=(0, 0), factor=(10000, 10000)) for x in range(n)] for y in range(n)])\n",
    "\n",
    "barrier_x = n//2 - 1\n",
    "barrier_width = 2\n",
    "multi_slit = [(-15, -13), (-8, -6), (-1, 1), (6, 8), (13, 15)]\n",
    "double_slit = [(-4, -2), (2, 4)]\n",
    "single_slit = [(-2, 2)]\n",
    "slits = double_slit\n",
    "\n",
    "frames = simulation.sim(n, sim_fps, duration, slits, barrier_x, barrier_width, sim_speed, initial_state=initial_state, potential=potential, normalize=True)"
   ],
   "id": "28252f30f1475b81",
   "outputs": [],
   "execution_count": null
  },
  {
   "metadata": {},
   "cell_type": "code",
   "source": [
    "import matplotlib\n",
    "plt.figure()\n",
    "plt.pcolormesh(np.abs(frames[0]) ** 2, cmap='inferno', norm=matplotlib.colors.PowerNorm(vmin=0, vmax=np.max(np.square(np.abs(frames))), gamma=0.4))\n",
    "# plt.pcolormesh(potential, vmin=0, vmax=20000)\n",
    "plt.colorbar()\n",
    "plt.show()"
   ],
   "id": "1f8de3542be64ef5",
   "outputs": [],
   "execution_count": null
  },
  {
   "metadata": {},
   "cell_type": "markdown",
   "source": "# Video",
   "id": "413a68bf8cd5a031"
  },
  {
   "metadata": {},
   "cell_type": "code",
   "source": [
    "import video\n",
    "\n",
    "# save video\n",
    "video_filename, anim = video.create(frames, 20, 1, frame_amount, sim_fps, slits, barrier_x, barrier_width, n)\n",
    "\n",
    "#plt.close()"
   ],
   "id": "2dd14fbacf016cf7",
   "outputs": [],
   "execution_count": null
  },
  {
   "metadata": {},
   "cell_type": "markdown",
   "source": "# Sonification",
   "id": "66cc23671d777fcd"
  },
  {
   "cell_type": "code",
   "source": [
    "# circle of interest\n",
    "def circle(radius, center, num_points):\n",
    "    radians = np.linspace(0, 2 * np.pi, num_points, endpoint=False)\n",
    "    x = (0.5 * n * (radius * np.sin(radians) + 1 + center[0]))\n",
    "    y = (0.5 * n * (radius * np.cos(radians) + 1 + center[1]))\n",
    "    return x, y\n",
    "\n",
    "# half circle (bottom to top)\n",
    "def half_circle(radius, center, num_points):\n",
    "    radians = np.linspace(0, np.pi, num_points, endpoint=True)\n",
    "    x = (0.5 * n * (radius * np.sin(radians) + 1 + center[0]))\n",
    "    y = (0.5 * n * (radius * np.cos(radians) + 1 + center[1]))\n",
    "    return x, y\n",
    "\n",
    "# line of interest\n",
    "def line(start, end, num_points):\n",
    "    t = np.linspace(0, 1, num_points, endpoint=True)\n",
    "    x = start[0]+n//2 + t * (end[0] - start[0])\n",
    "    y = start[1]+n//2 + t * (end[1] - start[1])\n",
    "    return x, y"
   ],
   "metadata": {
    "collapsed": false
   },
   "id": "8b51a0ac50bff252",
   "outputs": [],
   "execution_count": null
  },
  {
   "metadata": {},
   "cell_type": "code",
   "source": "np.array(half_circle(0.5, (0,0), 10))",
   "id": "5ab4bbd0b7a73d55",
   "outputs": [],
   "execution_count": null
  },
  {
   "metadata": {},
   "cell_type": "code",
   "source": [
    "import os\n",
    "os.environ['NUMEXPR_MAX_THREADS'] = '20'\n",
    "os.environ['NUMEXPR_NUM_THREADS'] = '16'\n",
    "import numexpr\n",
    "\n",
    "def interpolate_parallel(frames, indices, x_vals, y_vals):\n",
    "    # Hardcoded interpolation\n",
    "    # Way faster than any other interpolation!\n",
    "    t = np.array([indices, y_vals, x_vals]) % 1\n",
    "    t0, t1, t2 = t[0], t[1], t[2]\n",
    "    floors = np.floor([indices, y_vals, x_vals]).astype(int)\n",
    "    ceils  = np.ceil ([indices, y_vals, x_vals]).astype(int)\n",
    "    \n",
    "    f0 = frames[floors[0], floors[1], floors[2]]\n",
    "    f1 = frames[floors[0], floors[1], ceils [2]]\n",
    "    f2 = frames[floors[0], ceils [1], floors[2]]\n",
    "    f3 = frames[floors[0], ceils [1], ceils [2]]\n",
    "    f4 = frames[ceils [0], floors[1], floors[2]]\n",
    "    f5 = frames[ceils [0], floors[1], ceils [2]]\n",
    "    f6 = frames[ceils [0], ceils [1], floors[2]]\n",
    "    f7 = frames[ceils [0], ceils [1], ceils [2]]\n",
    "    \n",
    "    return numexpr.evaluate('''\\\\\n",
    "            ((1-t0) * ((1-t1) * ((1-t2) * real(abs(f0)) ** 2 \\\\\n",
    "                              +     t2  * real(abs(f1)) ** 2) \\\\\n",
    "                    +     t1  * ((1-t2) * real(abs(f2)) ** 2 \\\\\n",
    "                              +     t2  * real(abs(f3)) ** 2)) \\\\\n",
    "              + t0  * ((1-t1) * ((1-t2) * real(abs(f4)) ** 2 \\\\\n",
    "                              +     t2  * real(abs(f5)) ** 2) \\\\\n",
    "                    +     t1  * ((1-t2) * real(abs(f6)) ** 2 \\\\\n",
    "                              +     t2  * real(abs(f7)) ** 2))) \\\\\n",
    "            ''', local_dict=locals())\n",
    "\n",
    "\n",
    "def interpolate(frames, indices, x_vals, y_vals):\n",
    "    t = np.array([indices, y_vals, x_vals]) % 1\n",
    "    floors = np.floor([indices, y_vals, x_vals]).astype(int)\n",
    "    ceils  = np.ceil ([indices, y_vals, x_vals]).astype(int)\n",
    "    \n",
    "    return ((1-t[0]) * ((1-t[1]) * ((1-t[2]) * np.square(np.abs(frames[floors[0], floors[1], floors[2]]))\n",
    "                                 +     t[2]  * np.square(np.abs(frames[floors[0], floors[1], ceils [2]])))\n",
    "                     +     t[1]  * ((1-t[2]) * np.square(np.abs(frames[floors[0], ceils [1], floors[2]]))\n",
    "                                 +     t[2]  * np.square(np.abs(frames[floors[0], ceils [1], ceils [2]]))))\n",
    "             + t[0]  * ((1-t[1]) * ((1-t[2]) * np.square(np.abs(frames[ceils [0], floors[1], floors[2]]))\n",
    "                                 +     t[2]  * np.square(np.abs(frames[ceils [0], floors[1], ceils [2]])))\n",
    "                     +     t[1]  * ((1-t[2]) * np.square(np.abs(frames[ceils [0], ceils [1], floors[2]]))\n",
    "                                 +     t[2]  * np.square(np.abs(frames[ceils [0], ceils [1], ceils [2]])))))"
   ],
   "id": "26571b015c1f9e5e",
   "outputs": [],
   "execution_count": null
  },
  {
   "metadata": {},
   "cell_type": "code",
   "source": [
    "# parameters\n",
    "sample_rate = 44100\n",
    "num_frequencies = 40\n",
    "sample_amount = sample_rate * duration\n",
    "\n",
    "f_min = 0\n",
    "f_max = 4000\n",
    "# linear distribution\n",
    "frequencies = np.linspace(f_min, f_max, num_frequencies, endpoint=False)\n",
    "# linear distribution\n",
    "# frequencies = np.fft.fftfreq(num_frequencies * 2, 1 / sample_rate)[:num_frequencies] / sample_rate*2 * (f_max - f_min) + f_min\n",
    "# exponential distribution\n",
    "# frequencies = f_min * (f_max / f_min) ** np.linspace(0, 1, num_frequencies, endpoint=False)\n",
    "\n",
    "# choose method\n",
    "do_left = False\n",
    "# x, y = circle(radius=0.6, center=[0, 0], num_points=num_frequencies)\n",
    "# x, y = half_circle(radius=0.6, center=[0, 0], num_points=num_frequencies)\n",
    "x, y = line(start=[-60, 0], end=[60, 0], num_points=num_frequencies)"
   ],
   "id": "1651085fa04bbad4",
   "outputs": [],
   "execution_count": null
  },
  {
   "metadata": {},
   "cell_type": "code",
   "source": [
    "# Sonification\n",
    "frames_indices = np.linspace(0, frame_amount - 1, sample_amount, endpoint=False)\n",
    "\n",
    "t = np.arange(sample_amount) / sample_rate\n",
    "sini = np.sin(2 * np.pi * frequencies[np.newaxis, :] * t[:, np.newaxis])\n",
    "# sini = np.sin(2 * np.pi * ( frequencies[np.newaxis, :] * t[:, np.newaxis] + np.random.random(num_frequencies)[np.newaxis, :]))\n",
    "\n",
    "f1 = frames_indices[:, np.newaxis].repeat(num_frequencies, axis=1).flatten()\n",
    "x1 = x[np.newaxis, :].repeat(sample_amount, axis=0).flatten()\n",
    "y1 = y[np.newaxis, :].repeat(sample_amount, axis=0).flatten()\n",
    "\n",
    "if do_left:\n",
    "    x1_left = np.array(n) - x1"
   ],
   "id": "2df521a7a19d3a23",
   "outputs": [],
   "execution_count": null
  },
  {
   "metadata": {},
   "cell_type": "code",
   "source": [
    "plt.figure()\n",
    "plt.plot(frequencies)"
   ],
   "id": "3e698f359019b861",
   "outputs": [],
   "execution_count": null
  },
  {
   "metadata": {},
   "cell_type": "code",
   "source": [
    "# action\n",
    "audio = interpolate(frames, f1, x1, y1)\n",
    "audio = np.sum(sini * audio.reshape(sample_amount, num_frequencies), axis=1)\n",
    "\n",
    "# TODO as=Astft(); as.rfftsig=our_matrix"
   ],
   "id": "be5912b0341f0d30",
   "outputs": [],
   "execution_count": null
  },
  {
   "metadata": {},
   "cell_type": "code",
   "source": [
    "if do_left: \n",
    "    audio_left = interpolate(frames, f1, x1_left, y1)\n",
    "    audio_left = np.sum(sini * audio_left.reshape(sample_amount, num_frequencies), axis=1)"
   ],
   "id": "5ebc2457c1d027c3",
   "outputs": [],
   "execution_count": null
  },
  {
   "metadata": {},
   "cell_type": "code",
   "source": [
    "# create pya\n",
    "pa = Asig(audio, sr=sample_rate).fade_in(0.005).fade_out(0.005).norm().stereo()\n",
    "save_audio = pa"
   ],
   "id": "9d2b20368d3d97a4",
   "outputs": [],
   "execution_count": null
  },
  {
   "metadata": {},
   "cell_type": "code",
   "source": [
    "# create pya (2 channels)\n",
    "if do_left:\n",
    "    pb = Asig(np.array([audio_left, audio]).transpose((1, 0)), sr=sample_rate).fade_in(0.005).fade_out(0.005).norm()\n",
    "    save_audio = pb"
   ],
   "id": "8a8057415a534d40",
   "outputs": [],
   "execution_count": null
  },
  {
   "metadata": {},
   "cell_type": "code",
   "source": [
    "# save WAV\n",
    "audio_filename = f'output/sonification_{datetime.now().strftime(\"%Y_%m_%d-%H_%M_%S\")}.wav'\n",
    "save_audio.save_wavfile(audio_filename)\n",
    "print(f\"Sonification saved as {audio_filename}\")"
   ],
   "id": "4a454a3d58595a30",
   "outputs": [],
   "execution_count": null
  },
  {
   "metadata": {},
   "cell_type": "code",
   "source": [
    "# play directly\n",
    "save_audio.play(onset=1, rate=1)"
   ],
   "id": "f33b23ec499af1e9",
   "outputs": [],
   "execution_count": null
  },
  {
   "metadata": {},
   "cell_type": "code",
   "source": [
    "if do_left:\n",
    "    plt.figure()\n",
    "    plt.plot(audio_left)"
   ],
   "id": "863b6535485b134",
   "outputs": [],
   "execution_count": null
  },
  {
   "metadata": {},
   "cell_type": "code",
   "source": [
    "plt.figure()\n",
    "plt.plot(audio)"
   ],
   "id": "a556f45b0db606f1",
   "outputs": [],
   "execution_count": null
  },
  {
   "metadata": {},
   "cell_type": "markdown",
   "source": "# Combine Video & Audio",
   "id": "3e44304d5fde84c7"
  },
  {
   "metadata": {},
   "cell_type": "code",
   "source": "video.combine(audio_filename, video_filename)",
   "id": "333cfb07c9345b79",
   "outputs": [],
   "execution_count": null
  },
  {
   "cell_type": "code",
   "source": [],
   "metadata": {
    "collapsed": false
   },
   "id": "3d496e377c5ac4c8",
   "outputs": [],
   "execution_count": null
  },
  {
   "metadata": {},
   "cell_type": "code",
   "source": "",
   "id": "87a5fdd53fab1f4f",
   "outputs": [],
   "execution_count": null
  }
 ],
 "metadata": {
  "kernelspec": {
   "display_name": "Python 3",
   "language": "python",
   "name": "python3"
  },
  "language_info": {
   "codemirror_mode": {
    "name": "ipython",
    "version": 2
   },
   "file_extension": ".py",
   "mimetype": "text/x-python",
   "name": "python",
   "nbconvert_exporter": "python",
   "pygments_lexer": "ipython2",
   "version": "2.7.6"
  }
 },
 "nbformat": 4,
 "nbformat_minor": 5
}
