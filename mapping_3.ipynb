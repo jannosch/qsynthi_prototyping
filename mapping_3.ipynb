{
 "cells": [
  {
   "metadata": {},
   "cell_type": "markdown",
   "source": [
    "# Mapping 3\n",
    "- Line of Interest (circle & straight line)\n",
    "- Frequency spectrum mapping\n",
    "- Linear interpolation"
   ],
   "id": "bf03c98646fd5276"
  },
  {
   "cell_type": "code",
   "id": "initial_id",
   "metadata": {
    "collapsed": true
   },
   "source": [
    "import numpy as np\n",
    "import matplotlib.pyplot as plt\n",
    "import matplotlib.animation as animation\n",
    "import matplotlib.patches as patches\n",
    "from IPython.display import Audio\n",
    "from scipy.io.wavfile import write\n",
    "from datetime import datetime\n",
    "import subprocess\n",
    "from pya import *\n",
    "from scipy.interpolate import LinearNDInterpolator\n",
    "\n",
    "%matplotlib widget"
   ],
   "outputs": [],
   "execution_count": null
  },
  {
   "metadata": {},
   "cell_type": "code",
   "source": "device_info();",
   "id": "ed8161f5f1dee6bc",
   "outputs": [],
   "execution_count": null
  },
  {
   "metadata": {},
   "cell_type": "code",
   "source": "s = startup()",
   "id": "f6d7f9763fdfb30f",
   "outputs": [],
   "execution_count": null
  },
  {
   "metadata": {},
   "cell_type": "code",
   "source": "s",
   "id": "88523d62b2953c5b",
   "outputs": [],
   "execution_count": null
  },
  {
   "metadata": {},
   "cell_type": "code",
   "source": "#shutdown()",
   "id": "c2433a1b0dc8e681",
   "outputs": [],
   "execution_count": null
  },
  {
   "metadata": {},
   "cell_type": "markdown",
   "source": "# Simulation",
   "id": "a188d5af9347f67f"
  },
  {
   "metadata": {},
   "cell_type": "code",
   "source": [
    "import simulation\n",
    "\n",
    "n = 128\n",
    "sim_speed = 0.004\n",
    "sim_fps = 400\n",
    "duration = 4\n",
    "frame_amount = duration * sim_fps\n",
    "\n",
    "initial_state = np.array([[simulation.gaussian(x, y, n, offset=[-0.6, 0.0], width=0.15) for x in range(n)] for y in range(n)])\n",
    "potential = np.array([[simulation.parabola(x, y, n, offset=[0, 0], factor=10000) for x in range(n)] for y in range(n)])\n",
    "\n",
    "multi_slit = [(-15, -13), (-8, -6), (-1, 1), (6, 8), (13, 15)]\n",
    "double_slit = [(-4, -2), (2, 4)]\n",
    "single_slit = [(-2, 2)]\n",
    "slits = double_slit\n",
    "\n",
    "frames = simulation.sim(n, sim_fps, duration, slits, sim_speed, initial_state=initial_state, potential=potential)"
   ],
   "id": "28252f30f1475b81",
   "outputs": [],
   "execution_count": null
  },
  {
   "cell_type": "code",
   "outputs": [],
   "source": [
    "import matplotlib\n",
    "plt.figure()\n",
    "plt.pcolormesh(np.abs(frames[0]) ** 2, cmap='inferno', norm=matplotlib.colors.PowerNorm(vmin=0, vmax=np.max(np.square(np.abs(frames))), gamma=0.4))\n",
    "# plt.pcolormesh(potential, vmin=0, vmax=20000)\n",
    "plt.colorbar()\n",
    "plt.show()"
   ],
   "metadata": {
    "collapsed": false
   },
   "id": "a31f8b99c09ea8a6"
  },
  {
   "cell_type": "markdown",
   "source": [
    "# Sonification"
   ],
   "metadata": {
    "collapsed": false
   },
   "id": "fbdb74cd06eb8ec7"
  },
  {
   "cell_type": "code",
   "outputs": [],
   "source": [
    "# circle of interest\n",
    "def circle(radius, center):\n",
    "    radians = np.linspace(0, 2 * np.pi, num_frequencies, endpoint=False)\n",
    "    x = (0.5 * n * (radius * np.cos(radians) + 1 + center[0]))\n",
    "    y = (0.5 * n * (radius * np.sin(radians) + 1 + center[1]))\n",
    "    return x, y\n",
    "\n",
    "# line of interest\n",
    "def line(start, end):\n",
    "    t = np.linspace(0, 1, num_frequencies, endpoint=False)\n",
    "    x = start[0]+n//2 + t * (end[0] - start[0])\n",
    "    y = start[1]+n//2 + t * (end[1] - start[1])\n",
    "    return x, y"
   ],
   "metadata": {
    "collapsed": false
   },
   "id": "57a33ca2c4a670b2"
  },
  {
   "cell_type": "code",
   "outputs": [],
   "source": [
    "import numexpr as ne\n",
    "\n",
    "def interpolate(indices, x_vals, y_vals):\n",
    "    # Hardcoded interpolation\n",
    "    # Way faster than any other interpolation!\n",
    "    t = np.array([indices, y_vals, x_vals]) % 1\n",
    "    #return t\n",
    "    floors = np.floor([indices, y_vals, x_vals]).astype(int)\n",
    "    ceils  = np.ceil ([indices, y_vals, x_vals]).astype(int)\n",
    "    \n",
    "    return  ((1-t[0]) * ((1-t[1]) * ((1-t[2]) * np.square(np.abs(frames[floors[0], floors[1], floors[2]]))\n",
    "                                  +     t[2]  * np.square(np.abs(frames[floors[0], floors[1], ceils [2]])))\n",
    "                      +     t[1]  * ((1-t[2]) * np.square(np.abs(frames[floors[0], ceils [1], floors[2]]))\n",
    "                                  +     t[2]  * np.square(np.abs(frames[floors[0], ceils [1], ceils [2]]))))\n",
    "              + t[0]  * ((1-t[1]) * ((1-t[2]) * np.square(np.abs(frames[ceils [0], floors[1], floors[2]]))\n",
    "                                  +     t[2]  * np.square(np.abs(frames[ceils [0], floors[1], ceils [2]])))\n",
    "                      +     t[1]  * ((1-t[2]) * np.square(np.abs(frames[ceils [0], ceils [1], floors[2]]))\n",
    "                                  +     t[2]  * np.square(np.abs(frames[ceils [0], ceils [1], ceils [2]])))))"
   ],
   "metadata": {
    "collapsed": false
   },
   "id": "2dc821c9d44552ef"
  },
  {
   "cell_type": "code",
   "outputs": [],
   "source": [
    "# parameters\n",
    "sample_rate = 44100\n",
    "num_frequencies = 200\n",
    "\n",
    "f_min = 100\n",
    "f_max = 4000\n",
    "\n",
    "# choose method\n",
    "x, y = circle(radius=0.6, center=[0, 0])\n",
    "# x, y = line(start=[-60, 0], end=[60, 0])"
   ],
   "metadata": {
    "collapsed": false
   },
   "id": "b0fb68086d16b504"
  },
  {
   "cell_type": "code",
   "outputs": [],
   "source": [
    "# Sonification\n",
    "frames_indices = np.linspace(0, frame_amount - 1, sample_rate * duration, endpoint=False)\n",
    "\n",
    "frequencies = np.linspace(f_min, f_max, num_frequencies, endpoint=False)\n",
    "# frequencies = np.fft.fftfreq(num_frequencies * 2, 1 / sample_rate)[:num_frequencies] / sample_rate*2 * (f_max - f_min) + f_min\n",
    "\n",
    "t = np.arange(sample_rate * duration) / sample_rate\n",
    "sini = np.sin(2 * np.pi * frequencies[np.newaxis, :] * t[:, np.newaxis])\n",
    "\n",
    "f1 = frames_indices[:, np.newaxis].repeat(num_frequencies, axis=1).flatten()\n",
    "x1 = x[np.newaxis, :].repeat(sample_rate * duration, axis=0).flatten()\n",
    "y1 = y[np.newaxis, :].repeat(sample_rate * duration, axis=0).flatten()"
   ],
   "metadata": {
    "collapsed": false
   },
   "id": "d5f03eee8c00a765"
  },
  {
   "cell_type": "code",
   "outputs": [],
   "source": [
    "# plt.figure()\n",
    "# plt.plot(frequencies)"
   ],
   "metadata": {
    "collapsed": false
   },
   "id": "1edfad02daec5fae"
  },
  {
   "cell_type": "code",
   "outputs": [],
   "source": [
    "# action\n",
    "audio = interpolate(f1, x1, y1)\n",
    "audio = np.sum(sini * audio.reshape(sample_rate * duration, num_frequencies), axis=1)"
   ],
   "metadata": {
    "collapsed": false
   },
   "id": "f878beb135f676a8"
  },
  {
   "cell_type": "code",
   "outputs": [],
   "source": [
    "pa = Asig(audio, sr=sample_rate)"
   ],
   "metadata": {
    "collapsed": false
   },
   "id": "6cc31bbab8a3f500"
  },
  {
   "cell_type": "code",
   "outputs": [],
   "source": [
    "# save WAV\n",
    "audio_filename = f'output/sonification_{datetime.now().strftime(\"%Y_%m_%d-%H_%M_%S\")}.wav'\n",
    "pa.save_wavfile(audio_filename)\n",
    "print(f\"Sonification saved as {audio_filename}\")"
   ],
   "metadata": {
    "collapsed": false
   },
   "id": "105fda948dde1998"
  },
  {
   "cell_type": "code",
   "outputs": [],
   "source": [
    "# play directly\n",
    "pa.fade_in(0.005).fade_out(0.005).stereo().play(onset=1, rate=1)"
   ],
   "metadata": {
    "collapsed": false
   },
   "id": "fe703da526204152"
  },
  {
   "cell_type": "code",
   "outputs": [],
   "source": [
    "plt.figure()\n",
    "pa.plot()"
   ],
   "metadata": {
    "collapsed": false
   },
   "id": "6ebc5fff9bf9f321"
  },
  {
   "cell_type": "markdown",
   "source": [
    "# Video"
   ],
   "metadata": {
    "collapsed": false
   },
   "id": "8227eac4165511f"
  },
  {
   "cell_type": "code",
   "outputs": [],
   "source": [
    "import video\n",
    "\n",
    "# save video\n",
    "video_filename, anim = video.create(frames, 20, frame_amount, sim_fps, slits, n)\n",
    "\n",
    "#plt.close()"
   ],
   "metadata": {
    "collapsed": false
   },
   "id": "85ddc086f0a09661"
  },
  {
   "cell_type": "code",
   "outputs": [],
   "source": [
    "# combine audio & video\n",
    "video.combine(audio_filename, video_filename)"
   ],
   "metadata": {
    "collapsed": false
   },
   "id": "5ecc17e6f33d8657"
  },
  {
   "cell_type": "code",
   "source": [],
   "metadata": {
    "collapsed": false
   },
   "id": "3d496e377c5ac4c8",
   "outputs": [],
   "execution_count": null
  }
 ],
 "metadata": {
  "kernelspec": {
   "display_name": "Python 3",
   "language": "python",
   "name": "python3"
  },
  "language_info": {
   "codemirror_mode": {
    "name": "ipython",
    "version": 2
   },
   "file_extension": ".py",
   "mimetype": "text/x-python",
   "name": "python",
   "nbconvert_exporter": "python",
   "pygments_lexer": "ipython2",
   "version": "2.7.6"
  }
 },
 "nbformat": 4,
 "nbformat_minor": 5
}
