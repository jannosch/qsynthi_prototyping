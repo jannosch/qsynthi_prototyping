{
 "cells": [
  {
   "cell_type": "markdown",
   "id": "0",
   "metadata": {},
   "source": [
    "# Mapping 3\n",
    "- Line of Interest (circle & straight line)\n",
    "- Frequency spectrum mapping\n",
    "- Linear interpolation"
   ]
  },
  {
   "cell_type": "code",
   "execution_count": null,
   "id": "1",
   "metadata": {},
   "outputs": [],
   "source": [
    "import matplotlib.pyplot as plt\n",
    "import matplotlib\n",
    "from datetime import datetime\n",
    "from IPython.display import Video\n",
    "\n",
    "import pya\n",
    "from pya import *\n",
    "\n",
    "import video\n",
    "\n",
    "%matplotlib widget"
   ]
  },
  {
   "cell_type": "code",
   "execution_count": null,
   "id": "2",
   "metadata": {},
   "outputs": [],
   "source": [
    "s = startup()"
   ]
  },
  {
   "cell_type": "markdown",
   "id": "3",
   "metadata": {},
   "source": [
    "## Simulation"
   ]
  },
  {
   "cell_type": "code",
   "execution_count": null,
   "id": "4",
   "metadata": {},
   "outputs": [],
   "source": [
    "import simulation\n",
    "\n",
    "n = 128\n",
    "sim_speed = 0.003\n",
    "sim_fps = 200\n",
    "duration = 10\n",
    "frame_amount = duration * sim_fps\n",
    "\n",
    "initial_state = np.array([[simulation.gaussian(x, y, n, offset=[-0.6, 0.0], width=0.15, height=0.15) for x in range(n)] for y in range(n)])\n",
    "potential = np.array([[simulation.parabola(x, y, n, offset=(0, 0), factor=(40000, 40000, 2)) for x in range(n)] for y in range(n)])\n",
    "\n",
    "barrier_x = n//2 - 1\n",
    "barrier_width = 1\n",
    "multi_slit = [(-15, -13), (-8, -6), (-1, 1), (6, 8), (13, 15)]\n",
    "double_slit = [(-4, -1), (2, 5)]\n",
    "single_slit = [(-2, 2)]\n",
    "slits = double_slit\n",
    "\n",
    "frames = simulation.sim(n, sim_fps, duration, slits, barrier_x, barrier_width, sim_speed, initial_state=initial_state, potential=potential, wall_width=4)"
   ]
  },
  {
   "cell_type": "code",
   "execution_count": null,
   "id": "5",
   "metadata": {},
   "outputs": [],
   "source": [
    "def probability_density(frame):\n",
    "    return np.square(np.abs(frame))\n",
    "\n",
    "plt.figure()\n",
    "plt.pcolormesh(probability_density(frames[-1]), cmap='inferno', norm=matplotlib.colors.PowerNorm(vmin=0, vmax=np.max(np.square(np.abs(frames))), gamma=0.4))\n",
    "# plt.pcolormesh(potential, vmin=0, vmax=20000)\n",
    "plt.colorbar()\n",
    "plt.show()"
   ]
  },
  {
   "cell_type": "markdown",
   "id": "6",
   "metadata": {},
   "source": [
    "## Video"
   ]
  },
  {
   "cell_type": "code",
   "execution_count": null,
   "id": "7",
   "metadata": {},
   "outputs": [],
   "source": [
    "# save video\n",
    "video_filename, anim = video.create(frames, 20, 1, frame_amount, sim_fps, slits, barrier_x, barrier_width, n, complex_to_real_fn=probability_density, show_axis=True)\n",
    "\n",
    "Video(video_filename)"
   ]
  },
  {
   "cell_type": "markdown",
   "id": "8",
   "metadata": {},
   "source": [
    "## Sonification"
   ]
  },
  {
   "cell_type": "markdown",
   "id": "9",
   "metadata": {},
   "source": [
    "### Field Audification"
   ]
  },
  {
   "cell_type": "code",
   "execution_count": null,
   "id": "10",
   "metadata": {},
   "outputs": [],
   "source": [
    "def field_audification(frames, scanline='vertical', x_stride=1, y_stride=1, time_stride=sim_fps//4, complex_to_real_fn=probability_density):\n",
    "    hegiht = frames.shape[1]\n",
    "    width = frames.shape[2]\n",
    "    frames = frames[::time_stride, ::y_stride, ::x_stride] # apply stride\n",
    "    \n",
    "    if scanline == 'horizontal': frames = frames\n",
    "    elif scanline == 'vertical': frames = frames.transpose(0, 2, 1)\n",
    "    else: print(\"no valid scanline specified, defaulting to vertical\")\n",
    "    \n",
    "    sig = complex_to_real_fn(frames.flatten())\n",
    "    return Asig(sig, sr=int(np.round(sim_fps/time_stride * hegiht/y_stride * width/x_stride))).norm()"
   ]
  },
  {
   "cell_type": "code",
   "execution_count": null,
   "id": "11",
   "metadata": {},
   "outputs": [],
   "source": [
    "audification_fps = 3\n",
    "asig = field_audification(frames, scanline='vertical', time_stride=sim_fps//audification_fps, complex_to_real_fn=probability_density)\n",
    "Video(video.combine_asig(asig, video_filename))"
   ]
  },
  {
   "cell_type": "code",
   "execution_count": null,
   "id": "12",
   "metadata": {},
   "outputs": [],
   "source": [
    "audification_fps = 8\n",
    "asig = field_audification(frames[:, 16:n-16, 16:n-16], scanline='vertical', x_stride=4, y_stride=2, time_stride=sim_fps//audification_fps, complex_to_real_fn=probability_density)\n",
    "Video(video.combine_asig(asig, video_filename))"
   ]
  },
  {
   "cell_type": "code",
   "execution_count": null,
   "id": "13",
   "metadata": {},
   "outputs": [],
   "source": [
    "# circle of interest\n",
    "def circle(radius, center, num_points):\n",
    "    radians = np.linspace(0, 2 * np.pi, num_points, endpoint=False)\n",
    "    x = (0.5 * n * (radius * np.sin(radians) + 1 + center[0]))\n",
    "    y = (0.5 * n * (radius * np.cos(radians) + 1 + center[1]))\n",
    "    return x, y\n",
    "\n",
    "# half circle (bottom to top)\n",
    "def half_circle(radius, center, num_points):\n",
    "    radians = np.linspace(0, np.pi, num_points, endpoint=True)\n",
    "    x = (0.5 * n * (radius * np.sin(radians) + 1 + center[0]))\n",
    "    y = (0.5 * n * (radius * np.cos(radians) + 1 + center[1]))\n",
    "    return x, y\n",
    "\n",
    "# line of interest\n",
    "def line(start, end, num_points):\n",
    "    t = np.linspace(0, 1, num_points, endpoint=True)\n",
    "    x = start[0]+n//2 + t * (end[0] - start[0])\n",
    "    y = start[1]+n//2 + t * (end[1] - start[1])\n",
    "    return x, y"
   ]
  },
  {
   "cell_type": "code",
   "execution_count": null,
   "id": "14",
   "metadata": {},
   "outputs": [],
   "source": [
    "np.array(half_circle(0.5, (0,0), 10))"
   ]
  },
  {
   "cell_type": "code",
   "execution_count": null,
   "id": "15",
   "metadata": {},
   "outputs": [],
   "source": [
    "import os\n",
    "os.environ['NUMEXPR_MAX_THREADS'] = '20'\n",
    "os.environ['NUMEXPR_NUM_THREADS'] = '16'\n",
    "import numexpr\n",
    "\n",
    "def interpolate_parallel(frames, indices, x_vals, y_vals):\n",
    "    # Hardcoded interpolation\n",
    "    # Way faster than any other interpolation!\n",
    "    t = np.array([indices, y_vals, x_vals]) % 1\n",
    "    t0, t1, t2 = t[0], t[1], t[2]\n",
    "    floors = np.floor([indices, y_vals, x_vals]).astype(int)\n",
    "    ceils  = np.ceil ([indices, y_vals, x_vals]).astype(int)\n",
    "    \n",
    "    f0 = frames[floors[0], floors[1], floors[2]]\n",
    "    f1 = frames[floors[0], floors[1], ceils [2]]\n",
    "    f2 = frames[floors[0], ceils [1], floors[2]]\n",
    "    f3 = frames[floors[0], ceils [1], ceils [2]]\n",
    "    f4 = frames[ceils [0], floors[1], floors[2]]\n",
    "    f5 = frames[ceils [0], floors[1], ceils [2]]\n",
    "    f6 = frames[ceils [0], ceils [1], floors[2]]\n",
    "    f7 = frames[ceils [0], ceils [1], ceils [2]]\n",
    "    \n",
    "    return numexpr.evaluate('''\\\\\n",
    "            ((1-t0) * ((1-t1) * ((1-t2) * real(abs(f0)) ** 2 \\\\\n",
    "                              +     t2  * real(abs(f1)) ** 2) \\\\\n",
    "                    +     t1  * ((1-t2) * real(abs(f2)) ** 2 \\\\\n",
    "                              +     t2  * real(abs(f3)) ** 2)) \\\\\n",
    "              + t0  * ((1-t1) * ((1-t2) * real(abs(f4)) ** 2 \\\\\n",
    "                              +     t2  * real(abs(f5)) ** 2) \\\\\n",
    "                    +     t1  * ((1-t2) * real(abs(f6)) ** 2 \\\\\n",
    "                              +     t2  * real(abs(f7)) ** 2))) \\\\\n",
    "            ''', local_dict=locals())\n",
    "\n",
    "\n",
    "def interpolate(frames, indices, x_vals, y_vals):\n",
    "    t = np.array([indices, y_vals, x_vals]) % 1\n",
    "    floors = np.floor([indices, y_vals, x_vals]).astype(int)\n",
    "    ceils  = np.ceil ([indices, y_vals, x_vals]).astype(int)\n",
    "    \n",
    "    return ((1-t[0]) * ((1-t[1]) * ((1-t[2]) * np.square(np.abs(frames[floors[0], floors[1], floors[2]]))\n",
    "                                 +     t[2]  * np.square(np.abs(frames[floors[0], floors[1], ceils [2]])))\n",
    "                     +     t[1]  * ((1-t[2]) * np.square(np.abs(frames[floors[0], ceils [1], floors[2]]))\n",
    "                                 +     t[2]  * np.square(np.abs(frames[floors[0], ceils [1], ceils [2]]))))\n",
    "             + t[0]  * ((1-t[1]) * ((1-t[2]) * np.square(np.abs(frames[ceils [0], floors[1], floors[2]]))\n",
    "                                 +     t[2]  * np.square(np.abs(frames[ceils [0], floors[1], ceils [2]])))\n",
    "                     +     t[1]  * ((1-t[2]) * np.square(np.abs(frames[ceils [0], ceils [1], floors[2]]))\n",
    "                                 +     t[2]  * np.square(np.abs(frames[ceils [0], ceils [1], ceils [2]])))))"
   ]
  },
  {
   "cell_type": "code",
   "execution_count": null,
   "id": "16",
   "metadata": {},
   "outputs": [],
   "source": [
    "# parameters\n",
    "sample_rate = 44100\n",
    "num_frequencies = 40\n",
    "sample_amount = sample_rate * duration\n",
    "\n",
    "f_min = 0\n",
    "f_max = 4000\n",
    "# linear distribution\n",
    "frequencies = np.linspace(f_min, f_max, num_frequencies, endpoint=False)\n",
    "# linear distribution\n",
    "# frequencies = np.fft.fftfreq(num_frequencies * 2, 1 / sample_rate)[:num_frequencies] / sample_rate*2 * (f_max - f_min) + f_min\n",
    "# exponential distribution\n",
    "# frequencies = f_min * (f_max / f_min) ** np.linspace(0, 1, num_frequencies, endpoint=False)\n",
    "\n",
    "# choose method\n",
    "do_left = False\n",
    "# x, y = circle(radius=0.6, center=[0, 0], num_points=num_frequencies)\n",
    "# x, y = half_circle(radius=0.6, center=[0, 0], num_points=num_frequencies)\n",
    "x, y = line(start=[-60, 0], end=[60, 0], num_points=num_frequencies)"
   ]
  },
  {
   "cell_type": "code",
   "execution_count": null,
   "id": "17",
   "metadata": {},
   "outputs": [],
   "source": [
    "# Sonification\n",
    "frames_indices = np.linspace(0, frame_amount - 1, sample_amount, endpoint=False)\n",
    "\n",
    "t = np.arange(sample_amount) / sample_rate\n",
    "sini = np.sin(2 * np.pi * frequencies[np.newaxis, :] * t[:, np.newaxis])\n",
    "# sini = np.sin(2 * np.pi * ( frequencies[np.newaxis, :] * t[:, np.newaxis] + np.random.random(num_frequencies)[np.newaxis, :]))\n",
    "\n",
    "f1 = frames_indices[:, np.newaxis].repeat(num_frequencies, axis=1).flatten()\n",
    "x1 = x[np.newaxis, :].repeat(sample_amount, axis=0).flatten()\n",
    "y1 = y[np.newaxis, :].repeat(sample_amount, axis=0).flatten()\n",
    "\n",
    "if do_left:\n",
    "    x1_left = np.array(n) - x1"
   ]
  },
  {
   "cell_type": "code",
   "execution_count": null,
   "id": "18",
   "metadata": {},
   "outputs": [],
   "source": [
    "plt.figure()\n",
    "plt.plot(frequencies)"
   ]
  },
  {
   "cell_type": "code",
   "execution_count": null,
   "id": "19",
   "metadata": {},
   "outputs": [],
   "source": [
    "# action\n",
    "audio = interpolate(frames, f1, x1, y1)\n",
    "audio = np.sum(sini * audio.reshape(sample_amount, num_frequencies), axis=1)\n",
    "\n",
    "# TODO as=Astft(); as.rfftsig=our_matrix"
   ]
  },
  {
   "cell_type": "code",
   "execution_count": null,
   "id": "20",
   "metadata": {},
   "outputs": [],
   "source": [
    "if do_left: \n",
    "    audio_left = interpolate(frames, f1, x1_left, y1)\n",
    "    audio_left = np.sum(sini * audio_left.reshape(sample_amount, num_frequencies), axis=1)"
   ]
  },
  {
   "cell_type": "code",
   "execution_count": null,
   "id": "21",
   "metadata": {},
   "outputs": [],
   "source": [
    "# create pya\n",
    "pa = Asig(audio, sr=sample_rate).fade_in(0.005).fade_out(0.005).norm().stereo()\n",
    "save_audio = pa"
   ]
  },
  {
   "cell_type": "code",
   "execution_count": null,
   "id": "22",
   "metadata": {},
   "outputs": [],
   "source": [
    "# create pya (2 channels)\n",
    "if do_left:\n",
    "    pb = Asig(np.array([audio_left, audio]).transpose((1, 0)), sr=sample_rate).fade_in(0.005).fade_out(0.005).norm()\n",
    "    save_audio = pb"
   ]
  },
  {
   "cell_type": "code",
   "execution_count": null,
   "id": "23",
   "metadata": {},
   "outputs": [],
   "source": [
    "# save WAV\n",
    "audio_filename = f'output/sonification_{datetime.now().strftime(\"%Y_%m_%d-%H_%M_%S\")}.wav'\n",
    "save_audio.save_wavfile(audio_filename)\n",
    "print(f\"Sonification saved as {audio_filename}\")"
   ]
  },
  {
   "cell_type": "code",
   "execution_count": null,
   "id": "24",
   "metadata": {},
   "outputs": [],
   "source": [
    "# play directly\n",
    "save_audio.play(onset=1, rate=1)"
   ]
  },
  {
   "cell_type": "code",
   "execution_count": null,
   "id": "25",
   "metadata": {},
   "outputs": [],
   "source": [
    "if do_left:\n",
    "    plt.figure()\n",
    "    plt.plot(audio_left)"
   ]
  },
  {
   "cell_type": "code",
   "execution_count": null,
   "id": "26",
   "metadata": {},
   "outputs": [],
   "source": [
    "plt.figure()\n",
    "plt.plot(audio)"
   ]
  },
  {
   "cell_type": "markdown",
   "id": "27",
   "metadata": {},
   "source": [
    "# Combine Video & Audio"
   ]
  },
  {
   "cell_type": "code",
   "execution_count": null,
   "id": "28",
   "metadata": {},
   "outputs": [],
   "source": [
    "video.combine(audio_filename, video_filename)"
   ]
  },
  {
   "cell_type": "code",
   "execution_count": null,
   "id": "29",
   "metadata": {},
   "outputs": [],
   "source": []
  },
  {
   "cell_type": "code",
   "execution_count": null,
   "id": "30",
   "metadata": {},
   "outputs": [],
   "source": []
  }
 ],
 "metadata": {
  "kernelspec": {
   "display_name": "base",
   "language": "python",
   "name": "python3"
  },
  "language_info": {
   "codemirror_mode": {
    "name": "ipython",
    "version": 3
   },
   "file_extension": ".py",
   "mimetype": "text/x-python",
   "name": "python",
   "nbconvert_exporter": "python",
   "pygments_lexer": "ipython3",
   "version": "3.10.9"
  }
 },
 "nbformat": 4,
 "nbformat_minor": 5
}
