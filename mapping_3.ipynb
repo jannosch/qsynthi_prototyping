{
 "cells": [
  {
   "cell_type": "markdown",
   "id": "0",
   "metadata": {},
   "source": [
    "# Mapping 3\n",
    "- Line of Interest (circle & straight line)\n",
    "- Frequency spectrum mapping\n",
    "- Linear interpolation"
   ]
  },
  {
   "cell_type": "code",
   "execution_count": null,
   "id": "1",
   "metadata": {},
   "outputs": [],
   "source": [
    "import matplotlib.pyplot as plt\n",
    "import matplotlib\n",
    "import numpy as np\n",
    "from datetime import datetime\n",
    "from IPython.display import Video, Audio\n",
    "from pya import *\n",
    "\n",
    "import simulation as sim\n",
    "\n",
    "%matplotlib widget"
   ]
  },
  {
   "cell_type": "code",
   "execution_count": null,
   "id": "2",
   "metadata": {},
   "outputs": [],
   "source": [
    "plt.close()\n",
    "plt.figure()\n",
    "frame = sim.parabolic(center=dict(x=28, y=64), factor=dict(x=8, y=8))\n",
    "plt.pcolormesh(np.abs(np.square(frame)), cmap='inferno', norm=matplotlib.colors.PowerNorm(vmin=0, vmax=np.max(np.abs(np.square(frame))), gamma=0.5))\n",
    "# plt.pcolormesh(potential, vmin=0, vmax=20000)\n",
    "plt.colorbar()\n",
    "plt.show()"
   ]
  },
  {
   "cell_type": "code",
   "execution_count": null,
   "id": "3",
   "metadata": {},
   "outputs": [],
   "source": [
    "s = startup()"
   ]
  },
  {
   "cell_type": "markdown",
   "id": "4",
   "metadata": {},
   "source": [
    "## Simulation"
   ]
  },
  {
   "cell_type": "code",
   "execution_count": null,
   "id": "5",
   "metadata": {},
   "outputs": [],
   "source": [
    "n = 128\n",
    "\n",
    "multi_slit = [(-15, -13), (-8, -6), (-1, 1), (6, 8), (13, 15)]\n",
    "double_slit = [(-7, -5), (6, 8)]\n",
    "single_slit = [(-5, 6)]\n",
    "no_slits = []"
   ]
  },
  {
   "cell_type": "markdown",
   "id": "6",
   "metadata": {},
   "source": [
    "## Sonification"
   ]
  },
  {
   "cell_type": "markdown",
   "id": "7",
   "metadata": {},
   "source": [
    "### Scanner functions\n",
    "Return a scanner (function) for the sonification functions to use later.\n",
    "\n",
    "The scanners recieve a timestamp and a normalized phase to return the simulation value on that at that timestamp and phase value."
   ]
  },
  {
   "cell_type": "code",
   "execution_count": null,
   "id": "8",
   "metadata": {},
   "outputs": [],
   "source": [
    "def line_of_interest_scanner(start_coordinates={'x': 0, 'y': 64}, end_coordinates={'x': 128, 'y': 64}):\n",
    "    \"\"\"Returns a function that scans the simulation along a line\"\"\"\n",
    "    start_coordinates = np.array([start_coordinates['y'], start_coordinates['x']])[np.newaxis, :]\n",
    "    end_coordinates = np.array([end_coordinates['y'], end_coordinates['x']])[np.newaxis, :]\n",
    "\n",
    "    def line_of_interest(simulation: sim.Simulation, t, phase_0_to_1):\n",
    "        phase_0_to_1 = phase_0_to_1[:, np.newaxis]\n",
    "        coordinates = (1 - phase_0_to_1) * start_coordinates + phase_0_to_1 * end_coordinates\n",
    "\n",
    "        indices = np.array([t, coordinates[:, 0], coordinates[:, 1]])\n",
    "        return simulation.interpolated(indices)\n",
    "\n",
    "    return line_of_interest\n",
    "\n",
    "\n",
    "def circle_of_interest_scanner(center_coordinates={'x': 64, 'y': 64}, radius=32):\n",
    "    \"\"\"Returns a function that scans the simulation along a circle\"\"\"\n",
    "    center_x = center_coordinates[\"x\"]\n",
    "    center_y = center_coordinates[\"y\"]\n",
    "\n",
    "    def circle_of_interest(simulation: sim.Simulation, t, phase_0_to_1):\n",
    "        angle = 2*np.pi * phase_0_to_1\n",
    "        x = center_x + radius * np.cos(angle)\n",
    "        y = center_y + radius * np.sin(angle)\n",
    "        \n",
    "        indices = np.array([t, y, x])\n",
    "        return simulation.interpolated(indices)\n",
    "    \n",
    "    return circle_of_interest"
   ]
  },
  {
   "cell_type": "markdown",
   "id": "9",
   "metadata": {},
   "source": [
    "### Path of Interest - Audification\n",
    "Scans the simulation along the above defined paths at the given frequency. The result is directly used as signal.\n",
    "\n",
    "Analogous to slicing the simulation at this path and using the result as wavetable."
   ]
  },
  {
   "cell_type": "code",
   "execution_count": null,
   "id": "10",
   "metadata": {},
   "outputs": [],
   "source": [
    "def audification(simulation: sim.Simulation, frequency=100, sample_rate=44100, scanner_fn=line_of_interest_scanner(), complex_to_real_fn=sim.probability_density):\n",
    "    num_samples = int(sample_rate * simulation.duration_seconds())\n",
    "    t = np.linspace(0, simulation.duration_seconds() * simulation.fps, num_samples, endpoint=False)\n",
    "    phase_0_to_1 = np.linspace(0, frequency * simulation.duration_seconds(), num_samples, endpoint=False) % 1\n",
    "\n",
    "    simulation_values = scanner_fn(simulation, t, phase_0_to_1)\n",
    "    signal = complex_to_real_fn(simulation_values)\n",
    "    return Asig(signal, sr=sample_rate)"
   ]
  },
  {
   "cell_type": "markdown",
   "id": "11",
   "metadata": {},
   "source": [
    "### Timbre mapping"
   ]
  },
  {
   "cell_type": "code",
   "execution_count": null,
   "id": "12",
   "metadata": {},
   "outputs": [],
   "source": [
    "def timbre_mapping(simulation: sim.Simulation, num_harmonics=32, spacing='log', frequency=100, sample_rate=44100, scanner_fn=line_of_interest_scanner(), complex_to_real_fn=sim.probability_density):\n",
    "    num_samples = int(sample_rate * simulation.duration_seconds())\n",
    "    t = np.linspace(0, simulation.duration_seconds() * simulation.fps, num_samples, endpoint=False)\n",
    "\n",
    "    partial_number = np.arange(num_harmonics) + 1\n",
    "\n",
    "    if (spacing == 'lin'): \n",
    "        positions = np.linspace(0, 1, num_harmonics)\n",
    "    if (spacing == 'log'):\n",
    "        positions = np.log2(partial_number) / np.log2(num_harmonics)\n",
    "\n",
    "    # make 2d arrays to have each timestep have one entry for each position\n",
    "    t = np.repeat(t[:, np.newaxis], num_harmonics, axis=1)\n",
    "    positions = np.repeat(positions[np.newaxis, :], num_samples, axis=0)\n",
    "\n",
    "    # flatten as scanner takes 1d inputs and rebuild the shape again\n",
    "    simulation_values = scanner_fn(simulation, t.flatten(), positions.flatten()).reshape(num_samples, num_harmonics)\n",
    "    amplitudes = complex_to_real_fn(simulation_values) / partial_number[np.newaxis, :]\n",
    "\n",
    "    frequencies = np.reshape(frequency * partial_number, (1, -1))\n",
    "    phases = np.reshape(np.random.random((num_harmonics)), (1, -1)) # random phase offsets to impulse like waveshape \n",
    "    video_seconds = np.reshape(np.linspace(0, simulation.duration_seconds(), num_samples, endpoint=False), (-1, 1))\n",
    "\n",
    "    signal = np.sum(amplitudes * np.cos(2*np.pi * (video_seconds * frequencies + phases)), axis=1)\n",
    "    return Asig(signal, sr=sample_rate)"
   ]
  },
  {
   "cell_type": "markdown",
   "id": "13",
   "metadata": {},
   "source": [
    "### Field Audification"
   ]
  },
  {
   "cell_type": "code",
   "execution_count": null,
   "id": "14",
   "metadata": {},
   "outputs": [],
   "source": [
    "def field_audification(simulation: sim.Simulation, scanline='vertical', x_stride=1, y_stride=1, time_stride=50, complex_to_real_fn=sim.probability_density):\n",
    "    height = simulation.frames.shape[1]\n",
    "    width = simulation.frames.shape[2]\n",
    "    frames = simulation.frames[::time_stride, ::y_stride, ::x_stride] # apply stride\n",
    "    \n",
    "    if scanline == 'horizontal': frames = frames\n",
    "    elif scanline == 'vertical': frames = frames.transpose(0, 2, 1)\n",
    "    else: print(\"User warning: Specified scanline is invalid. Defaulting to vertical.\")\n",
    "    \n",
    "    signal = complex_to_real_fn(frames).flatten()\n",
    "    sample_rate = int(np.round(simulation.fps/time_stride * height/y_stride * width/x_stride))\n",
    "    return Asig(signal, sample_rate)"
   ]
  },
  {
   "cell_type": "markdown",
   "id": "15",
   "metadata": {},
   "source": [
    "## Scenarios\n",
    "Note: Running the simulation and rendering the video can take about 30 seconds on an average device. Some sonifications also take that long."
   ]
  },
  {
   "cell_type": "markdown",
   "id": "16",
   "metadata": {},
   "source": [
    "### Scenario 1: Harmonic Oscillator"
   ]
  },
  {
   "cell_type": "code",
   "execution_count": null,
   "id": "17",
   "metadata": {},
   "outputs": [],
   "source": [
    "harmonic_oscillator = sim.Simulation(\n",
    "    title = \"Harmonic Oscillator - Parabolic Potential\",\n",
    "    fps = 200,\n",
    "    speed = 0.004,\n",
    "    initial_state = sim.gaussian(),\n",
    "    potential = sim.parabolic(),\n",
    "    barrier = None\n",
    ")\n",
    "harmonic_oscillator.simulate(seconds=8)"
   ]
  },
  {
   "cell_type": "code",
   "execution_count": null,
   "id": "18",
   "metadata": {},
   "outputs": [],
   "source": [
    "Video(harmonic_oscillator.render_video(gamma=0.6))"
   ]
  },
  {
   "cell_type": "code",
   "execution_count": null,
   "id": "19",
   "metadata": {},
   "outputs": [],
   "source": [
    "asig = audification(\n",
    "    simulation=harmonic_oscillator, \n",
    "    frequency=100, \n",
    "    scanner_fn=circle_of_interest_scanner(center_coordinates=dict(x=64, y=64), radius=32), \n",
    "    complex_to_real_fn=sim.probability_density\n",
    ")\n",
    "Video(harmonic_oscillator.video_with_sonification(asig, sonification_title=\"audification\"))"
   ]
  },
  {
   "cell_type": "code",
   "execution_count": null,
   "id": "20",
   "metadata": {},
   "outputs": [],
   "source": [
    "asig = timbre_mapping(\n",
    "    simulation=harmonic_oscillator,\n",
    "    num_harmonics=20,\n",
    "    spacing='log', # 'lin'\n",
    "    frequency=100,\n",
    "    scanner_fn=line_of_interest_scanner(start_coordinates=dict(x=10, y=64), end_coordinates=dict(x=118, y=64)),\n",
    "    complex_to_real_fn=sim.probability_density\n",
    ")\n",
    "Video(harmonic_oscillator.video_with_sonification(asig, sonification_title=\"timbre_mapping\"))"
   ]
  },
  {
   "cell_type": "code",
   "execution_count": null,
   "id": "21",
   "metadata": {},
   "outputs": [],
   "source": [
    "sonification_fps=8\n",
    "asig = field_audification(\n",
    "    simulation=harmonic_oscillator,\n",
    "    scanline='vertical',\n",
    "    x_stride=4,\n",
    "    y_stride=4,\n",
    "    time_stride=int(harmonic_oscillator.fps / sonification_fps),\n",
    "    complex_to_real_fn=sim.probability_density\n",
    ")\n",
    "Video(harmonic_oscillator.video_with_sonification(asig, sonification_title=\"field_audification\"))"
   ]
  },
  {
   "cell_type": "markdown",
   "id": "22",
   "metadata": {},
   "source": [
    "### Scenario 2: Tunnel Effect"
   ]
  },
  {
   "cell_type": "code",
   "execution_count": null,
   "id": "23",
   "metadata": {},
   "outputs": [],
   "source": [
    "tunnel_effect = sim.Simulation(\n",
    "    title = \"Tunnel Effect - Barrier and Parabolic Potential\",\n",
    "    fps = 230,\n",
    "    speed = 0.004,\n",
    "    initial_state = sim.gaussian(),\n",
    "    potential = sim.parabolic(),\n",
    "    barrier = sim.Barrier(x=64, width=1, slits=[])\n",
    ")\n",
    "tunnel_effect.simulate(seconds=10)"
   ]
  },
  {
   "cell_type": "code",
   "execution_count": null,
   "id": "24",
   "metadata": {},
   "outputs": [],
   "source": [
    "Video(tunnel_effect.render_video(gamma=0.6))"
   ]
  },
  {
   "cell_type": "markdown",
   "id": "25",
   "metadata": {},
   "source": [
    "### Scenario 3: Single Slit"
   ]
  },
  {
   "cell_type": "code",
   "execution_count": null,
   "id": "26",
   "metadata": {},
   "outputs": [],
   "source": [
    "single_slit = sim.Simulation(\n",
    "    title = \"Slingle Slit and Parabolic Potential\",\n",
    "    fps = 240,\n",
    "    speed = 0.002,\n",
    "    initial_state = sim.gaussian(),\n",
    "    potential = sim.parabolic(),\n",
    "    barrier = sim.Barrier(x=64, width=1, slits=[[64-5, 64+5]])\n",
    ")\n",
    "single_slit.simulate(seconds=10)"
   ]
  },
  {
   "cell_type": "code",
   "execution_count": null,
   "id": "27",
   "metadata": {},
   "outputs": [],
   "source": [
    "Video(single_slit.render_video(gamma=0.3))"
   ]
  },
  {
   "cell_type": "markdown",
   "id": "28",
   "metadata": {},
   "source": [
    "### Scenarion 4: Double Slit"
   ]
  },
  {
   "cell_type": "code",
   "execution_count": null,
   "id": "29",
   "metadata": {},
   "outputs": [],
   "source": [
    "double_slit = sim.Simulation(\n",
    "    title = \"Double Slit and Parabolic Potential\",\n",
    "    fps = 240,\n",
    "    speed = 0.002,\n",
    "    initial_state = sim.gaussian(),\n",
    "    potential = sim.parabolic(),\n",
    "    barrier = sim.Barrier(x=64, width=1, slits=[[64-7, 64-5], [64+5, 64+7]])\n",
    ")\n",
    "double_slit.simulate(seconds=10)"
   ]
  },
  {
   "cell_type": "code",
   "execution_count": null,
   "id": "30",
   "metadata": {},
   "outputs": [],
   "source": [
    "Video(double_slit.render_video(gamma=0.3))"
   ]
  }
 ],
 "metadata": {
  "kernelspec": {
   "display_name": "base",
   "language": "python",
   "name": "python3"
  },
  "language_info": {
   "codemirror_mode": {
    "name": "ipython",
    "version": 3
   },
   "file_extension": ".py",
   "mimetype": "text/x-python",
   "name": "python",
   "nbconvert_exporter": "python",
   "pygments_lexer": "ipython3",
   "version": "3.10.9"
  }
 },
 "nbformat": 4,
 "nbformat_minor": 5
}
