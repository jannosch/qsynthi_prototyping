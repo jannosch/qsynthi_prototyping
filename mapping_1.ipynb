{
 "cells": [
  {
   "cell_type": "code",
   "id": "initial_id",
   "metadata": {
    "collapsed": true
   },
   "source": [
    "import numpy as np\n",
    "import cv2\n",
    "import matplotlib.pyplot as plt\n",
    "from IPython.display import Video\n",
    "from IPython.display import Audio"
   ],
   "outputs": [],
   "execution_count": null
  },
  {
   "cell_type": "code",
   "source": [
    "def get_interpolated(array, index):\n",
    "    if not hasattr(array, \"__len__\"): return array # if scalar\n",
    "    return (1 - (index[0] % 1)) * get_interpolated(array[int(np.floor(index[0]))], index[1:]) + (index[0] % 1) * get_interpolated(array[int(np.ceil(index[0]))], index[1:])"
   ],
   "metadata": {
    "collapsed": false
   },
   "id": "797cc34261ac4654",
   "outputs": [],
   "execution_count": null
  },
  {
   "cell_type": "code",
   "source": [
    "def calculate_next_psi(psi, dt, potential):\n",
    "    n = psi.shape[0]\n",
    "    \n",
    "    # potential-part\n",
    "    next_psi = [[psi[i, j] * np.exp(-1j * dt * potential[i, j]) for j in range(n)] for i in range(n)]\n",
    "\n",
    "    next_psi = np.fft.fft2(next_psi)\n",
    "    \n",
    "    for i in range(n):\n",
    "        for j in range(n):\n",
    "            k = 2*np.pi * min(i, n-i)\n",
    "            l = 2*np.pi * min(j, n-j)\n",
    "            theta = (k*k + l*l) * dt\n",
    "            next_psi[i, j] *= np.exp(1j * theta)\n",
    "    \n",
    "    next_psi = np.fft.ifft2(next_psi)\n",
    "    return next_psi"
   ],
   "metadata": {
    "collapsed": false
   },
   "id": "861511a0c32a7ca1",
   "outputs": [],
   "execution_count": null
  },
  {
   "cell_type": "code",
   "source": [
    "def gaussian(x, y, n, offset, width):\n",
    "    x = (x - n/2.0) / (n/2.0) - offset[0]\n",
    "    y = (y - n/2.0) / (n/2.0) - offset[1]\n",
    "    return np.exp(-(x*x + y*y) / (width*width)) + 0j"
   ],
   "metadata": {
    "collapsed": false
   },
   "id": "e5490474fb942ba1",
   "outputs": [],
   "execution_count": null
  },
  {
   "cell_type": "code",
   "source": [
    "def parabolar(x, y, n, offset, factor):\n",
    "    x = (x - n/2.0) / (n/2.0) - offset[0]\n",
    "    y = (y - n/2.0) / (n/2.0) - offset[1]\n",
    "    return factor * (x*x + y*y)\n",
    "    "
   ],
   "metadata": {
    "collapsed": false
   },
   "id": "6840624e803945c4",
   "outputs": [],
   "execution_count": null
  },
  {
   "cell_type": "code",
   "source": [
    "parabolar(64, 0, 128, [0, 0], 1)"
   ],
   "metadata": {
    "collapsed": false
   },
   "id": "2277b60f58fa48d8",
   "outputs": [],
   "execution_count": null
  },
  {
   "cell_type": "code",
   "source": [
    "def circle(rad, radius, offset, n):\n",
    "    return (radius * np.array([np.cos(rad), np.sin(rad)]) + offset) * n//2 + n//2"
   ],
   "metadata": {
    "collapsed": false
   },
   "id": "fd09f93c5e69d2b",
   "outputs": [],
   "execution_count": null
  },
  {
   "cell_type": "code",
   "source": [
    "np.concatenate(([5], circle(0, 1, 0, 128)), axis=0)"
   ],
   "metadata": {
    "collapsed": false
   },
   "id": "72a34898a9fbe454",
   "outputs": [],
   "execution_count": null
  },
  {
   "cell_type": "code",
   "source": [
    "%rm test.mp4\n",
    "\n",
    "n = 128\n",
    "fps = 12\n",
    "duration = 5\n",
    "\n",
    "samplerate = 44100\n",
    "frequency = 110\n",
    "interest_radius = 0.5\n",
    "interest_center = [0, 0]\n",
    "\n",
    "frames = [] # for storing the generated images\n",
    "fourcc = cv2.VideoWriter_fourcc(*'mp4v')\n",
    "video = cv2.VideoWriter('test.mp4', fourcc, fps, (800, 600))\n",
    "\n",
    "psi = np.array([[gaussian(x, y, n, offset=[-0.5, 0.0], width=0.2) for x in range(n)] for y in range(n)])\n",
    "potential = np.array([[parabolar(x, y, n, offset=[0,0], factor=100) for x in range(n)] for y in range(n)])\n",
    "frames.append(psi)\n",
    "\n",
    "#plt.pcolormesh(pow(np.abs(frames[0]), 2.0/3.0), cmap='inferno', vmin=0, vmax=1)\n",
    "plt.pcolormesh(potential)\n",
    "plt.colorbar()\n",
    "plt.show()\n",
    "\n",
    "\n",
    "for i in range(fps*duration):\n",
    "    for timestep in range(1):\n",
    "        psi = calculate_next_psi(psi, 0.0005, potential)\n",
    "    frames.append(psi)\n",
    "\n",
    "print(\"Finished simulation\")\n",
    "\n",
    "# Sonification\n",
    "rad_per_sample = 2 * np.pi * frequency / samplerate\n",
    "audio = [np.square(np.abs(get_interpolated(frames, np.concatenate((np.array([i * fps/samplerate]), circle(rad_per_sample * i, interest_radius, interest_center, n)), axis=0)))) for i in range(samplerate*duration)]\n",
    "\n",
    "print(\"Finished sonicifaction\")\n",
    "\n",
    "'''\n",
    "for i in range(len(frames)):\n",
    "    plt.figure(figsize=(8, 6))\n",
    "    plot = plt.pcolormesh(pow(np.abs(frames[i]), 2.0/3.0), cmap='inferno', vmin=0, vmax=1, animated=True)\n",
    "    plt.colorbar()\n",
    "    plt.title('psi')\n",
    "\n",
    "    # Save to temporary file\n",
    "    plt.savefig('temp_frame.png')\n",
    "    plt.close()\n",
    "\n",
    "    # Read the image and add to the video\n",
    "    img = cv2.imread('temp_frame.png')\n",
    "    video.write(img)\n",
    "\n",
    "video.release()\n",
    "'''"
   ],
   "metadata": {
    "collapsed": false
   },
   "id": "f03f2c250e00a636",
   "outputs": [],
   "execution_count": null
  },
  {
   "cell_type": "code",
   "source": [
    "Audio(audio, rate=samplerate)"
   ],
   "metadata": {
    "collapsed": false
   },
   "id": "a0ea8004f80921b3",
   "outputs": [],
   "execution_count": null
  },
  {
   "cell_type": "code",
   "source": [],
   "metadata": {
    "collapsed": false
   },
   "id": "315cad2f96aeba6d",
   "outputs": [],
   "execution_count": null
  }
 ],
 "metadata": {
  "kernelspec": {
   "display_name": "Python 3",
   "language": "python",
   "name": "python3"
  },
  "language_info": {
   "codemirror_mode": {
    "name": "ipython",
    "version": 2
   },
   "file_extension": ".py",
   "mimetype": "text/x-python",
   "name": "python",
   "nbconvert_exporter": "python",
   "pygments_lexer": "ipython2",
   "version": "2.7.6"
  }
 },
 "nbformat": 4,
 "nbformat_minor": 5
}
