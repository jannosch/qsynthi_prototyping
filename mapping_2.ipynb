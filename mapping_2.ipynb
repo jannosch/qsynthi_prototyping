{
 "cells": [
  {
   "metadata": {},
   "cell_type": "markdown",
   "source": [
    "# Audification\n",
    "- Line of Interest (Circle)\n",
    "- Intensity mapping\n",
    "- Linear interpolation"
   ],
   "id": "bf03c98646fd5276"
  },
  {
   "cell_type": "code",
   "id": "initial_id",
   "metadata": {
    "collapsed": true
   },
   "source": [
    "import matplotlib.pyplot as plt\n",
    "import pyamapping\n",
    "from IPython.display import Audio\n",
    "from scipy.io.wavfile import write\n",
    "from datetime import datetime\n",
    "from pya import *\n",
    "\n",
    "%matplotlib widget"
   ],
   "outputs": [],
   "execution_count": null
  },
  {
   "metadata": {},
   "cell_type": "code",
   "source": "s = startup()",
   "id": "ad50502a7d1e61eb",
   "outputs": [],
   "execution_count": null
  },
  {
   "metadata": {},
   "cell_type": "markdown",
   "source": [
    "# Simulation"
   ],
   "id": "a188d5af9347f67f"
  },
  {
   "metadata": {},
   "cell_type": "code",
   "source": [
    "import simulation\n",
    "\n",
    "n = 128\n",
    "sim_speed = 0.004\n",
    "sim_fps = 400\n",
    "duration = 6\n",
    "frame_amount = duration * sim_fps\n",
    "\n",
    "initial_state = np.array([[simulation.gaussian_x_impulse(x, y, n, offset=[-0.6, 0.0], width=0.15, height=0.15, impulse=-0.07) for x in range(n)] for y in range(n)])\n",
    "\n",
    "potential = np.array([[simulation.parabola(x, y, n, offset=(0, 0), factor=(10000, 10000)) for x in range(n)] for y in range(n)])\n",
    "# potential = np.zeros((n, n))\n",
    "\n",
    "barrier_x = n//2 - 1\n",
    "barrier_width = 2\n",
    "multi_slit = [(-15, -13), (-8, -6), (-1, 1), (6, 8), (13, 15)]\n",
    "double_slit = [(-4, -2), (2, 4)]\n",
    "single_slit = [(-2, 2)]\n",
    "slits = double_slit\n",
    "\n",
    "frames = simulation.sim(n, sim_fps, duration, slits, barrier_x, barrier_width, sim_speed, initial_state=initial_state, potential=potential, normalize=True)"
   ],
   "id": "28252f30f1475b81",
   "outputs": [],
   "execution_count": null
  },
  {
   "cell_type": "code",
   "source": [
    "import matplotlib\n",
    "plt.pcolormesh(np.abs(frames[0]) ** 2, cmap='inferno', norm=matplotlib.colors.PowerNorm(vmin=0, vmax=np.max(np.square(np.abs(frames))), gamma=0.4))\n",
    "plt.pcolormesh(potential, vmin=0, vmax=20000)\n",
    "plt.colorbar()\n",
    "plt.show()"
   ],
   "metadata": {
    "collapsed": false
   },
   "id": "28c3cff86b1c26d7",
   "outputs": [],
   "execution_count": null
  },
  {
   "cell_type": "markdown",
   "source": [
    "# Video"
   ],
   "metadata": {
    "collapsed": false
   },
   "id": "48d91f90f2f35e2b"
  },
  {
   "cell_type": "code",
   "source": [
    "import video\n",
    "\n",
    "# save video\n",
    "video_filename, anim = video.create(frames, 20, 1, frame_amount, sim_fps, slits, barrier_x, barrier_width, n)\n",
    "\n",
    "# plt.close()"
   ],
   "metadata": {
    "collapsed": false
   },
   "id": "318bf0697c784b37",
   "outputs": [],
   "execution_count": null
  },
  {
   "cell_type": "markdown",
   "source": [
    "# Sonification"
   ],
   "metadata": {
    "collapsed": false
   },
   "id": "9c6d3bdd9c7ab1e1"
  },
  {
   "cell_type": "code",
   "source": [
    "# circle of interest\n",
    "def circle(radius, center):\n",
    "    radians_per_sample = 2 * np.pi * frequency / sample_rate\n",
    "    radians = np.arange(sample_amount) * radians_per_sample\n",
    "    x = (0.5 * n * (radius * np.sin(radians) + 1 + center[0]))\n",
    "    y = (0.5 * n * (radius * np.cos(radians) + 1 + center[1]))\n",
    "    return x, y\n",
    "\n",
    "# half circle (bottom to top)\n",
    "def half_circle(radius, center):\n",
    "    t = np.arange(sample_amount) / sample_rate * frequency % 1\n",
    "    x = (0.5 * n * (radius * np.sin(np.pi * t) + 1 + center[0]))\n",
    "    y = (0.5 * n * (radius * np.cos(np.pi * t) + 1 + center[1]))\n",
    "    return x, y\n",
    "\n",
    "# line of interest\n",
    "def line(start, end):\n",
    "    t = np.arange(sample_amount) / sample_rate * frequency % 1\n",
    "    x = start[0]+n//2 + t * (end[0] - start[0])\n",
    "    y = start[1]+n//2 + t * (end[1] - start[1])\n",
    "    return x, y"
   ],
   "metadata": {
    "collapsed": false
   },
   "id": "beb09d21c9c9c312",
   "outputs": [],
   "execution_count": null
  },
  {
   "cell_type": "code",
   "source": [
    "# parameters\n",
    "sample_rate = 44100\n",
    "frequency = 220\n",
    "sample_amount = sample_rate * duration\n",
    "\n",
    "# choose method\n",
    "do_left = True\n",
    "# x, y = circle(radius=0.25, center=[0, 0])\n",
    "x, y = half_circle(radius=0.6, center=[0, 0])\n",
    "# x, y = line(start=[-60, 0], end=[60, 0])"
   ],
   "metadata": {
    "collapsed": false
   },
   "id": "2f7924e55aeb667c",
   "outputs": [],
   "execution_count": null
  },
  {
   "cell_type": "code",
   "source": [
    "# Sonification\n",
    "frames_indices = np.linspace(0, frame_amount - 1, sample_amount, endpoint=False)\n",
    "\n",
    "# No interpolation\n",
    "#audio = frames[frames_indices.astype(int), y.astype(int), x.astype(int)]\n",
    "#audio = np.square(np.abs(audio))\n",
    "\n",
    "def interpolate(frames, indices, x_vals, y_vals):\n",
    "    # Hardcoded interpolation\n",
    "    # Way faster than any other interpolation!\n",
    "    t = np.array([indices, y_vals, x_vals]) % 1\n",
    "    floors = np.floor([indices, y_vals, x_vals]).astype(int)\n",
    "    ceils  = np.ceil ([indices, y_vals, x_vals]).astype(int)\n",
    "\n",
    "    return ((1-t[0]) * ((1-t[1]) * ((1-t[2]) * np.square(np.abs(frames[floors[0], floors[1], floors[2]]))\n",
    "                                 +     t[2]  * np.square(np.abs(frames[floors[0], floors[1], ceils [2]])))\n",
    "                     +     t[1]  * ((1-t[2]) * np.square(np.abs(frames[floors[0], ceils [1], floors[2]]))\n",
    "                                 +     t[2]  * np.square(np.abs(frames[floors[0], ceils [1], ceils [2]]))))\n",
    "             + t[0]  * ((1-t[1]) * ((1-t[2]) * np.square(np.abs(frames[ceils [0], floors[1], floors[2]]))\n",
    "                                 +     t[2]  * np.square(np.abs(frames[ceils [0], floors[1], ceils [2]])))\n",
    "                     +     t[1]  * ((1-t[2]) * np.square(np.abs(frames[ceils [0], ceils [1], floors[2]]))\n",
    "                                 +     t[2]  * np.square(np.abs(frames[ceils [0], ceils [1], ceils [2]])))))\n",
    "\n",
    "audio = interpolate(frames, frames_indices, x, y)\n",
    "\n",
    "if do_left:\n",
    "    audio_left = interpolate(frames, frames_indices, np.array(n) - x, y)"
   ],
   "metadata": {
    "collapsed": false
   },
   "id": "78e39049833b0a03",
   "outputs": [],
   "execution_count": null
  },
  {
   "metadata": {},
   "cell_type": "code",
   "source": [
    "# create pya\n",
    "pa = Asig(audio, sr=sample_rate).fade_in(0.005).fade_out(0.005).norm().stereo()\n",
    "save_audio = pa"
   ],
   "id": "41cba5b2ce8bf8e2",
   "outputs": [],
   "execution_count": null
  },
  {
   "metadata": {},
   "cell_type": "code",
   "source": [
    "if do_left:\n",
    "    pb = Asig(np.array([audio_left, audio]).transpose((1, 0)), sr=sample_rate).fade_in(0.005).fade_out(0.005).norm()\n",
    "    save_audio = pb"
   ],
   "id": "8887a183b1d2bad",
   "outputs": [],
   "execution_count": null
  },
  {
   "metadata": {},
   "cell_type": "code",
   "source": [
    "# save WAV\n",
    "audio_filename = f'output/sonification_{datetime.now().strftime(\"%Y_%m_%d-%H_%M_%S\")}.wav'\n",
    "save_audio.save_wavfile(audio_filename)\n",
    "print(f\"Sonification saved as {audio_filename}\")"
   ],
   "id": "b8eade21557441f6",
   "outputs": [],
   "execution_count": null
  },
  {
   "metadata": {},
   "cell_type": "code",
   "source": [
    "# play directly\n",
    "Audio(save_audio.mono().sig, rate=sample_rate)"
   ],
   "id": "5777f66703868128",
   "outputs": [],
   "execution_count": null
  },
  {
   "cell_type": "code",
   "source": [
    "plt.figure()\n",
    "plt.plot(audio)"
   ],
   "metadata": {
    "collapsed": false
   },
   "id": "9adcbcbc740da82c",
   "outputs": [],
   "execution_count": null
  },
  {
   "cell_type": "markdown",
   "source": [
    "# Combine Video & Audio"
   ],
   "metadata": {
    "collapsed": false
   },
   "id": "c6fc20b4fc59a12e"
  },
  {
   "cell_type": "code",
   "source": [
    "# combine audio & video\n",
    "video.combine(audio_filename, video_filename)"
   ],
   "metadata": {
    "collapsed": false
   },
   "id": "fb1501b483a8d4cc",
   "outputs": [],
   "execution_count": null
  },
  {
   "cell_type": "code",
   "source": [],
   "metadata": {
    "collapsed": false
   },
   "id": "3d496e377c5ac4c8",
   "outputs": [],
   "execution_count": null
  }
 ],
 "metadata": {
  "kernelspec": {
   "display_name": "Python 3",
   "language": "python",
   "name": "python3"
  },
  "language_info": {
   "codemirror_mode": {
    "name": "ipython",
    "version": 2
   },
   "file_extension": ".py",
   "mimetype": "text/x-python",
   "name": "python",
   "nbconvert_exporter": "python",
   "pygments_lexer": "ipython2",
   "version": "2.7.6"
  }
 },
 "nbformat": 4,
 "nbformat_minor": 5
}
