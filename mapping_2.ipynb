{
 "cells": [
  {
   "metadata": {},
   "cell_type": "markdown",
   "source": [
    "# Mapping 2\n",
    "- Line of Interest (Circle)\n",
    "- Intensity mapping\n",
    "- Linear interpolation"
   ],
   "id": "bf03c98646fd5276"
  },
  {
   "cell_type": "code",
   "id": "initial_id",
   "metadata": {
    "collapsed": true
   },
   "source": [
    "import numpy as np\n",
    "import matplotlib.pyplot as plt\n",
    "import matplotlib.animation as animation\n",
    "import matplotlib.patches as patches\n",
    "from IPython.display import Audio\n",
    "from scipy.io.wavfile import write\n",
    "from datetime import datetime\n",
    "import subprocess\n",
    "# @Jannis:\n",
    "#    conda install -c conda-forge pyaudio\n",
    "#    pip install pya\n",
    "from pya import *\n",
    "from scipy.interpolate import LinearNDInterpolator"
   ],
   "outputs": [],
   "execution_count": null
  },
  {
   "cell_type": "code",
   "source": [
    "def get_interpolated(array, index):\n",
    "    if not hasattr(array, \"__len__\"): return array # if scalar\n",
    "    return (1 - (index[0] % 1)) * get_interpolated(array[int(np.floor(index[0]))], index[1:]) + (index[0] % 1) * get_interpolated(array[int(np.ceil(index[0]))], index[1:])"
   ],
   "metadata": {
    "collapsed": false
   },
   "id": "797cc34261ac4654",
   "outputs": [],
   "execution_count": null
  },
  {
   "cell_type": "code",
   "source": [
    "# Doesnt Work!\n",
    "def vectorized_interpolation(array, indices): # indices.shape (dim_array, desired number of interpolations)\n",
    "    if len(indices) == 0: return array\n",
    "    t = indices[0] % 1\n",
    "    floor_indices = np.floor(indices[0]).astype(int)\n",
    "    ceil_indices  = np.ceil (indices[0]).astype(int)\n",
    "    return (1 - t) * vectorized_interpolation(array[floor_indices], indices[1:]) + t * vectorized_interpolation(array[ceil_indices], indices[1:])"
   ],
   "metadata": {
    "collapsed": false
   },
   "id": "76f0ba542e8e665f",
   "outputs": [],
   "execution_count": null
  },
  {
   "cell_type": "code",
   "source": [
    "vectorized_interpolation(np.array([[0, 1, 2], [10, 20, 30]]), np.array([[0.5, 1], [0.5, 1]]))"
   ],
   "metadata": {
    "collapsed": false
   },
   "id": "6037b9463e8b3b2a",
   "outputs": [],
   "execution_count": null
  },
  {
   "metadata": {},
   "cell_type": "markdown",
   "source": [
    "# Simulation"
   ],
   "id": "a188d5af9347f67f"
  },
  {
   "metadata": {},
   "cell_type": "code",
   "source": [
    "import simulation\n",
    "\n",
    "n = 128\n",
    "sim_speed = 0.004\n",
    "sim_fps = 400\n",
    "duration = 6\n",
    "frame_amount = duration * sim_fps\n",
    "\n",
    "initial_state = np.array([[simulation.gaussian(x, y, n, offset=[-0.6, 0.0], width=0.15) for x in range(n)] for y in range(n)])\n",
    "potential = np.array([[simulation.parabola(x, y, n, offset=[0, 0], factor=10000) for x in range(n)] for y in range(n)])\n",
    "\n",
    "multi_slit = [(-15, -13), (-8, -6), (-1, 1), (6, 8), (13, 15)]\n",
    "double_slit = [(-4, -2), (2, 4)]\n",
    "single_slit = [(-2, 2)]\n",
    "slits = double_slit\n",
    "\n",
    "frames = simulation.sim(n, sim_fps, duration, slits, sim_speed, initial_state=initial_state, potential=potential)"
   ],
   "id": "28252f30f1475b81",
   "outputs": [],
   "execution_count": null
  },
  {
   "metadata": {},
   "cell_type": "code",
   "source": [
    "plt.pcolormesh(pow(np.abs(frames[0]), 2.0/3.0), cmap='inferno', vmin=0, vmax=1)\n",
    "plt.pcolormesh(potential, vmin=0, vmax=20000)\n",
    "plt.colorbar()\n",
    "plt.show()"
   ],
   "id": "1f8de3542be64ef5",
   "outputs": [],
   "execution_count": null
  },
  {
   "cell_type": "markdown",
   "source": [
    "# Video"
   ],
   "metadata": {
    "collapsed": false
   },
   "id": "48d91f90f2f35e2b"
  },
  {
   "metadata": {},
   "cell_type": "code",
   "source": [
    "# create visual barrier for plot\n",
    "def visual_barrier(barrier_gaps):\n",
    "    start = 0\n",
    "    rects = []\n",
    "    for g in barrier_gaps:\n",
    "        end = n//2 + g[0]\n",
    "        rect = patches.Rectangle((n//2 - 1.5, start - 0.5), 1, end - start, linewidth=0, facecolor='#60b0ff')\n",
    "        start = n//2 + g[1]\n",
    "        rects.append(rect)\n",
    "    rects.append(patches.Rectangle((n//2 - 1.5, start - 0.5), 1, n - start, linewidth=0, facecolor='#60b0ff'))\n",
    "    return rects"
   ],
   "id": "d11c659aa0874ae7",
   "outputs": [],
   "execution_count": null
  },
  {
   "metadata": {},
   "cell_type": "code",
   "source": [
    "# FuncAnimation\n",
    "video_fps = 20\n",
    "\n",
    "fig, ax = plt.subplots()\n",
    "plt.axis('off')  # big performance boost\n",
    "\n",
    "data = pow(np.abs(frames[0]), 2.0/3.0)\n",
    "cax = ax.imshow(data, cmap='inferno', vmin=0, vmax=1)\n",
    "for b in visual_barrier(slits):\n",
    "    ax.add_patch(b)\n",
    "fig.colorbar(cax)  # no performance impact (?)\n",
    "\n",
    "def animate(i):\n",
    "    cax.set_array(pow(np.abs(frames[i * sim_fps // video_fps]), 2.0/3.0))\n",
    "\n",
    "anim = animation.FuncAnimation(fig, animate, frames=frame_amount * video_fps // sim_fps)\n",
    "video_filename = f'output/simulation_{datetime.now().strftime(\"%Y_%m_%d-%H_%M_%S\")}.mp4'\n",
    "\n",
    "anim.save(video_filename, fps=video_fps, dpi=150, bitrate=4000)\n",
    "\n",
    "print(f'video saved as {video_filename}')"
   ],
   "id": "9c07d30a32b5903f",
   "outputs": [],
   "execution_count": null
  },
  {
   "cell_type": "markdown",
   "source": [
    "# Sonification"
   ],
   "metadata": {
    "collapsed": false
   },
   "id": "66cc23671d777fcd"
  },
  {
   "cell_type": "code",
   "source": [
    "# circle of interest\n",
    "def circle(radius, center):\n",
    "    radians_per_sample = 2 * np.pi * frequency / sample_rate\n",
    "    radians = np.arange(sample_rate * duration) * radians_per_sample\n",
    "    x = (0.5 * n * (radius * np.cos(radians) + 1 + center[0]))#.astype(int)\n",
    "    y = (0.5 * n * (radius * np.sin(radians) + 1 + center[1]))#.astype(int)\n",
    "    return x, y\n",
    "\n",
    "# line of interest\n",
    "def line(start, end):\n",
    "    t = np.arange(sample_rate * duration) / sample_rate * frequency % 1\n",
    "    x = start[0]+n//2 + t * (end[0] - start[0])\n",
    "    y = start[1]+n//2 + t * (end[1] - start[1])\n",
    "    return x, y"
   ],
   "metadata": {
    "collapsed": false
   },
   "id": "8b51a0ac50bff252",
   "outputs": [],
   "execution_count": null
  },
  {
   "metadata": {},
   "cell_type": "code",
   "source": [
    "# parameters\n",
    "sample_rate = 44100\n",
    "frequency = 220\n",
    "\n",
    "# choose method\n",
    "x, y = circle(radius=0.25, center=[0, 0])\n",
    "# x, y = line(start=[-60, 0.5], end=[60, 0.5])\n",
    "\n"
   ],
   "id": "1651085fa04bbad4",
   "outputs": [],
   "execution_count": null
  },
  {
   "cell_type": "code",
   "source": [
    "# Sonification\n",
    "frames_indices = np.linspace(0, frame_amount - 1, sample_rate * duration, endpoint=False)\n",
    "\n",
    "# No interpolation\n",
    "#audio = frames[frames_indices.astype(int), y.astype(int), x.astype(int)]\n",
    "#audio = np.square(np.abs(audio))\n",
    "\n",
    "# Hardcoded interpolation\n",
    "# Way faster than any other interpolation!\n",
    "t = np.array([frames_indices, y, x]) % 1\n",
    "floors = np.floor([frames_indices, y, x]).astype(int)\n",
    "ceils  = np.ceil ([frames_indices, y, x]).astype(int)\n",
    "\n",
    "audio = ((1-t[0]) * ((1-t[1]) * ((1-t[2]) * np.square(np.abs(frames[floors[0], floors[1], floors[2]]))\n",
    "                              +     t[2]  * np.square(np.abs(frames[floors[0], floors[1], ceils [2]])))\n",
    "                  +     t[1]  * ((1-t[2]) * np.square(np.abs(frames[floors[0], ceils [1], floors[2]]))\n",
    "                              +     t[2]  * np.square(np.abs(frames[floors[0], ceils [1], ceils [2]]))))\n",
    "          + t[0]  * ((1-t[1]) * ((1-t[2]) * np.square(np.abs(frames[ceils [0], floors[1], floors[2]]))\n",
    "                              +     t[2]  * np.square(np.abs(frames[ceils [0], floors[1], ceils [2]])))\n",
    "                  +     t[1]  * ((1-t[2]) * np.square(np.abs(frames[ceils [0], ceils [1], floors[2]]))\n",
    "                              +     t[2]  * np.square(np.abs(frames[ceils [0], ceils [1], ceils [2]])))))\n",
    "\n",
    "#audio = np.square(np.abs(audio))\n",
    "\n",
    "print(\"Finished sonification\")"
   ],
   "metadata": {
    "collapsed": false
   },
   "id": "674b75b71786d7d7",
   "outputs": [],
   "execution_count": null
  },
  {
   "metadata": {},
   "cell_type": "code",
   "source": [
    "fade = 0.005\n",
    "if fade > 0:\n",
    "    fade_samples = int(sample_rate * fade)\n",
    "    audio[:fade_samples]  *= np.square(np.linspace(start=0, stop=1, num=fade_samples, endpoint=False))\n",
    "    audio[-fade_samples:] *= np.square(np.linspace(start=1, stop=0, num=fade_samples, endpoint=False))\n",
    "audio_filename = f'output/sonification_{datetime.now().strftime(\"%Y_%m_%d-%H_%M_%S\")}.wav'\n",
    "write(audio_filename, sample_rate, np.round((audio - np.average(audio)) / np.max(np.abs(audio - np.average(audio))) * 32767).astype(np.int16))\n",
    "print(f\"Sonification saved as {audio_filename}\")\n",
    "Audio(audio, rate=sample_rate)"
   ],
   "id": "96d7c1856f7c02a",
   "outputs": [],
   "execution_count": null
  },
  {
   "metadata": {},
   "cell_type": "code",
   "outputs": [],
   "execution_count": null,
   "source": [
    "# interactive plots\n",
    "# conda install ipympl\n",
    "%matplotlib widget"
   ],
   "id": "4cb925363a97fb5"
  },
  {
   "metadata": {},
   "cell_type": "code",
   "source": "device_info();",
   "id": "c4689410b4355dbc",
   "outputs": [],
   "execution_count": null
  },
  {
   "metadata": {},
   "cell_type": "code",
   "outputs": [],
   "execution_count": null,
   "source": "s = startup(device='HIER KÖNNTE IHRE DEVICE NUMMER STEHEN (aus device_info)')",
   "id": "16925e1445e47c68"
  },
  {
   "metadata": {},
   "cell_type": "code",
   "source": "a1 = Asig(audio, sr=sample_rate)",
   "id": "290ac1f0ee434380",
   "outputs": [],
   "execution_count": null
  },
  {
   "metadata": {},
   "cell_type": "code",
   "source": [
    "plt.figure()\n",
    "a1.fade_in(0.5).fade_out(4).plot().play(onset=1, rate=2) # rate: resampling (oktave hoch/runter)"
   ],
   "id": "3568d2bf3fd215b3",
   "outputs": [],
   "execution_count": null
  },
  {
   "metadata": {},
   "cell_type": "code",
   "outputs": [],
   "execution_count": null,
   "source": [
    "# weitere feature: filter, nicht-linearer transfer, multichannel (stereo)\n",
    "\n",
    "# time slice\n",
    "a1[{2.0:4.0}].play()\n",
    "\n",
    "# audio hinten anhängen\n",
    "a1.x[-1:] = a1[{1.0:2.0}]\n",
    "\n",
    "# audio überlagern (wie genau? vielleicht wie oben aber mit +=)\n",
    "\n",
    "# advanced access modes\n",
    "a1.x # extend(able bounds)\n",
    "a1.b # bound(s shrinkable)\n",
    "a1.o # overwrite\n",
    "\n",
    "# spectrogram (nperseg für freq vs zeitauflösung)\n",
    "a1.to_stft(nperseg=4096).plot(ylim=(0, 2000), scale='log')\n",
    "\n",
    "# get\n",
    "numpy_array_of_audio = a1.sig\n",
    "\n",
    "# Klassen\n",
    "#Asig Aspec Astft Arecorder Aserver\n",
    "#Ugen\n",
    "\n",
    "# load file\n",
    "Asig('filename.wav')"
   ],
   "id": "f47c63eb976c39b8"
  },
  {
   "metadata": {},
   "cell_type": "code",
   "outputs": [],
   "execution_count": null,
   "source": "",
   "id": "1a937eec0aadf6a0"
  },
  {
   "cell_type": "code",
   "source": [
    "plt.figure()\n",
    "plt.plot(audio)"
   ],
   "metadata": {
    "collapsed": false
   },
   "id": "479278c1ff1ce031",
   "outputs": [],
   "execution_count": null
  },
  {
   "cell_type": "markdown",
   "source": [
    "# Combine Video & Audio"
   ],
   "metadata": {
    "collapsed": false
   },
   "id": "b60316a46e60635f"
  },
  {
   "cell_type": "code",
   "source": [
    "combined_filename = f'output/combination_{datetime.now().strftime(\"%Y_%m_%d-%H_%M_%S\")}.mp4'\n",
    "\n",
    "# Construct the ffmpeg command to combine video and audio\n",
    "ffmpeg_command = [\n",
    "    'ffmpeg',\n",
    "    '-i', video_filename,   # Input video file\n",
    "    '-i', audio_filename,   # Input audio file\n",
    "    '-c:v', 'copy',         # Copy the video stream\n",
    "    '-c:a', 'aac',          # Encode the audio to AAC (necessary for some formats)\n",
    "    '-shortest',            # Finish encoding when the shortest input stream ends\n",
    "    combined_filename         # Output file\n",
    "]\n",
    "\n",
    "# Execute the command\n",
    "subprocess.run(ffmpeg_command)"
   ],
   "metadata": {
    "collapsed": false
   },
   "id": "333cfb07c9345b79",
   "outputs": [],
   "execution_count": null
  },
  {
   "cell_type": "code",
   "source": [],
   "metadata": {
    "collapsed": false
   },
   "id": "3d496e377c5ac4c8",
   "outputs": [],
   "execution_count": null
  }
 ],
 "metadata": {
  "kernelspec": {
   "display_name": "Python 3",
   "language": "python",
   "name": "python3"
  },
  "language_info": {
   "codemirror_mode": {
    "name": "ipython",
    "version": 2
   },
   "file_extension": ".py",
   "mimetype": "text/x-python",
   "name": "python",
   "nbconvert_exporter": "python",
   "pygments_lexer": "ipython2",
   "version": "2.7.6"
  }
 },
 "nbformat": 4,
 "nbformat_minor": 5
}
